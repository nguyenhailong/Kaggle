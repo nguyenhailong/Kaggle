{
 "cells": [
  {
   "cell_type": "markdown",
   "metadata": {},
   "source": [
    "# PART 2: Compute a feature vector for each buisness"
   ]
  },
  {
   "cell_type": "markdown",
   "metadata": {},
   "source": [
    "## Summary:<br>\n",
    "\n",
    "     This Kaggle competition is a Multiple instance learning (MIL) problem:      \n",
    "     Each training example (a business) has multiple instances (photos).          \n",
    "     We'll use the SimpleMI algorithm briefly mentioned in \n",
    "     https://en.wikipedia.org/wiki/Multiple_instance_learning\n",
    "     \n",
    "     In part 1, we've obtained a 2048-dim feature vector for each image.\n",
    "     In part 2, for each business, we will compute the mean feature vector among images that belong to it.\n",
    "     In this way, each business is correspondent to a single feature, i.e., the mean feature vector."
   ]
  },
  {
   "cell_type": "markdown",
   "metadata": {},
   "source": [
    "## Process buisness in the training set"
   ]
  },
  {
   "cell_type": "code",
   "execution_count": 4,
   "metadata": {
    "collapsed": false
   },
   "outputs": [
    {
     "name": "stdout",
     "output_type": "stream",
     "text": [
      "Number of business:  1996 (4 business with missing labels are dropped)\n",
      "Buisness processed:  1000 Time passed:  5.0 sec\n"
     ]
    }
   ],
   "source": [
    "data_root = '/Volumes/My Passport/yelp/'\n",
    "\n",
    "import numpy as np\n",
    "import pandas as pd \n",
    "import h5py\n",
    "import time\n",
    "\n",
    "train_photo_to_biz = pd.read_csv(data_root+'train_photo_to_biz_ids.csv')\n",
    "train_labels = pd.read_csv(data_root+'train.csv').dropna()\n",
    "train_labels['labels'] = train_labels['labels'].apply(lambda x: tuple(sorted(int(t) for t in x.split())))\n",
    "train_labels.set_index('business_id', inplace=True)\n",
    "biz_ids = train_labels.index.unique()\n",
    "print \"Number of business: \", len(biz_ids) ,   \"(4 business with missing labels are dropped)\"\n",
    "\n",
    "## Load image features\n",
    "f = h5py.File(data_root+'train_image_HOGfeatures.h5','r')\n",
    "train_image_features = np.copy(f['feature'])\n",
    "f.close()\n",
    "\n",
    "\n",
    "t= time.time()\n",
    "## For each business, compute a feature vector \n",
    "df = pd.DataFrame(columns=['business','label','feature vector'])\n",
    "index = 0\n",
    "for biz in biz_ids:  \n",
    "    \n",
    "    label = train_labels.loc[biz]['labels']\n",
    "    image_index = train_photo_to_biz[train_photo_to_biz['business_id']==biz].index.tolist()\n",
    "    folder = data_root+'train_photo_folders/'  \n",
    "    \n",
    "    features = train_image_features[image_index]\n",
    "    mean_feature =list(np.mean(features,axis=0))\n",
    "\n",
    "    df.loc[index] = [biz, label, mean_feature]\n",
    "    index+=1\n",
    "    if index%1000==0:\n",
    "        print \"Buisness processed: \", index, \"Time passed: \", \"{0:.1f}\".format(time.time()-t), \"sec\"\n",
    "\n",
    "with open(data_root+\"train_biz_HOGfeatures.csv\",'w') as f:  \n",
    "    df.to_csv(f, index=False)"
   ]
  },
  {
   "cell_type": "code",
   "execution_count": 5,
   "metadata": {
    "collapsed": false,
    "scrolled": true
   },
   "outputs": [
    {
     "name": "stdout",
     "output_type": "stream",
     "text": [
      "(1996, 3)\n"
     ]
    },
    {
     "data": {
      "text/html": [
       "<div>\n",
       "<table border=\"1\" class=\"dataframe\">\n",
       "  <thead>\n",
       "    <tr style=\"text-align: right;\">\n",
       "      <th></th>\n",
       "      <th>business</th>\n",
       "      <th>label</th>\n",
       "      <th>feature vector</th>\n",
       "    </tr>\n",
       "  </thead>\n",
       "  <tbody>\n",
       "    <tr>\n",
       "      <th>0</th>\n",
       "      <td>1000</td>\n",
       "      <td>(1, 2, 3, 4, 5, 6, 7)</td>\n",
       "      <td>[0.14005625, 0.085037857, 0.09016072, 0.126218...</td>\n",
       "    </tr>\n",
       "    <tr>\n",
       "      <th>1</th>\n",
       "      <td>1001</td>\n",
       "      <td>(0, 1, 6, 8)</td>\n",
       "      <td>[0.12032899, 0.050164513, 0.077049561, 0.11339...</td>\n",
       "    </tr>\n",
       "    <tr>\n",
       "      <th>2</th>\n",
       "      <td>100</td>\n",
       "      <td>(1, 2, 4, 5, 6, 7)</td>\n",
       "      <td>[0.14770095, 0.077750131, 0.087755665, 0.13897...</td>\n",
       "    </tr>\n",
       "    <tr>\n",
       "      <th>3</th>\n",
       "      <td>1006</td>\n",
       "      <td>(1, 2, 4, 5, 6)</td>\n",
       "      <td>[0.16893548, 0.078272745, 0.12111282, 0.085566...</td>\n",
       "    </tr>\n",
       "    <tr>\n",
       "      <th>4</th>\n",
       "      <td>1010</td>\n",
       "      <td>(0, 6, 8)</td>\n",
       "      <td>[0.17430022, 0.070603535, 0.11224926, 0.115906...</td>\n",
       "    </tr>\n",
       "  </tbody>\n",
       "</table>\n",
       "</div>"
      ],
      "text/plain": [
       "   business                  label  \\\n",
       "0      1000  (1, 2, 3, 4, 5, 6, 7)   \n",
       "1      1001           (0, 1, 6, 8)   \n",
       "2       100     (1, 2, 4, 5, 6, 7)   \n",
       "3      1006        (1, 2, 4, 5, 6)   \n",
       "4      1010              (0, 6, 8)   \n",
       "\n",
       "                                      feature vector  \n",
       "0  [0.14005625, 0.085037857, 0.09016072, 0.126218...  \n",
       "1  [0.12032899, 0.050164513, 0.077049561, 0.11339...  \n",
       "2  [0.14770095, 0.077750131, 0.087755665, 0.13897...  \n",
       "3  [0.16893548, 0.078272745, 0.12111282, 0.085566...  \n",
       "4  [0.17430022, 0.070603535, 0.11224926, 0.115906...  "
      ]
     },
     "execution_count": 5,
     "metadata": {},
     "output_type": "execute_result"
    }
   ],
   "source": [
    "# Check file content\n",
    "train_business = pd.read_csv(data_root+'train_biz_HOGfeatures.csv')\n",
    "print train_business.shape\n",
    "train_business[0:5]"
   ]
  },
  {
   "cell_type": "markdown",
   "metadata": {},
   "source": [
    "## Process business in the test set"
   ]
  },
  {
   "cell_type": "code",
   "execution_count": 6,
   "metadata": {
    "collapsed": true
   },
   "outputs": [],
   "source": [
    "data_root = '/Volumes/My Passport/yelp/'\n",
    "\n",
    "import numpy as np\n",
    "import pandas as pd \n",
    "import h5py\n",
    "import time"
   ]
  },
  {
   "cell_type": "code",
   "execution_count": 7,
   "metadata": {
    "collapsed": false
   },
   "outputs": [
    {
     "name": "stdout",
     "output_type": "stream",
     "text": [
      "Number of business:  10000\n",
      "Buisness processed:  1000 Time passed:  136.4 sec\n",
      "Buisness processed:  2000 Time passed:  380.0 sec\n",
      "Buisness processed:  3000 Time passed:  620.8 sec\n",
      "Buisness processed:  4000 Time passed:  906.5 sec\n",
      "Buisness processed:  5000 Time passed:  1185.3 sec\n",
      "Buisness processed:  6000 Time passed:  1448.0 sec\n",
      "Buisness processed:  7000 Time passed:  1718.8 sec\n",
      "Buisness processed:  8000 Time passed:  1986.8 sec\n",
      "Buisness processed:  9000 Time passed:  2258.4 sec\n",
      "Buisness processed:  10000 Time passed:  2546.5 sec\n"
     ]
    }
   ],
   "source": [
    "test_photo_to_biz = pd.read_csv(data_root+'test_photo_to_biz.csv')\n",
    "biz_ids = test_photo_to_biz['business_id'].unique()\n",
    "\n",
    "## Load image features\n",
    "f = h5py.File(data_root+'test_image_HOGfeatures.h5','r')\n",
    "image_filenames = list(np.copy(f['photo_id']))\n",
    "image_filenames = [name.split('/')[-1][:-4] for name in image_filenames]  #remove the full path and the str \".jpg\"\n",
    "image_features = np.copy(f['feature'])\n",
    "f.close()\n",
    "print \"Number of business: \", len(biz_ids)\n",
    "\n",
    "df = pd.DataFrame(columns=['business','feature vector'])\n",
    "index = 0\n",
    "t = time.time()\n",
    "\n",
    "for biz in biz_ids:     \n",
    "    \n",
    "    image_ids = test_photo_to_biz[test_photo_to_biz['business_id']==biz]['photo_id'].tolist()  \n",
    "    image_index = [image_filenames.index(str(x)) for x in image_ids]\n",
    "     \n",
    "    folder = data_root+'test_photo_folders/'            \n",
    "    features = image_features[image_index]\n",
    "    mean_feature =list(np.mean(features,axis=0))\n",
    "\n",
    "    df.loc[index] = [biz, mean_feature]\n",
    "    index+=1\n",
    "    if index%1000==0:\n",
    "        print \"Buisness processed: \", index, \"Time passed: \", \"{0:.1f}\".format(time.time()-t), \"sec\"\n",
    "\n",
    "with open(data_root+\"test_biz_HOGfeatures.csv\",'w') as f:  \n",
    "    df.to_csv(f, index=False)"
   ]
  },
  {
   "cell_type": "code",
   "execution_count": 8,
   "metadata": {
    "collapsed": false,
    "scrolled": true
   },
   "outputs": [
    {
     "name": "stdout",
     "output_type": "stream",
     "text": [
      "(10000, 2)\n"
     ]
    },
    {
     "data": {
      "text/html": [
       "<div>\n",
       "<table border=\"1\" class=\"dataframe\">\n",
       "  <thead>\n",
       "    <tr style=\"text-align: right;\">\n",
       "      <th></th>\n",
       "      <th>business</th>\n",
       "      <th>feature vector</th>\n",
       "    </tr>\n",
       "  </thead>\n",
       "  <tbody>\n",
       "    <tr>\n",
       "      <th>0</th>\n",
       "      <td>003sg</td>\n",
       "      <td>[0.14029846, 0.097122177, 0.10904062, 0.155347...</td>\n",
       "    </tr>\n",
       "    <tr>\n",
       "      <th>1</th>\n",
       "      <td>00er5</td>\n",
       "      <td>[0.13802128, 0.08558739, 0.10501912, 0.1498876...</td>\n",
       "    </tr>\n",
       "    <tr>\n",
       "      <th>2</th>\n",
       "      <td>00kad</td>\n",
       "      <td>[0.14562644, 0.10004855, 0.12065777, 0.1286887...</td>\n",
       "    </tr>\n",
       "    <tr>\n",
       "      <th>3</th>\n",
       "      <td>00mc6</td>\n",
       "      <td>[0.14964491, 0.12405226, 0.1319675, 0.1532997,...</td>\n",
       "    </tr>\n",
       "    <tr>\n",
       "      <th>4</th>\n",
       "      <td>00q7x</td>\n",
       "      <td>[0.11541133, 0.10103348, 0.13063087, 0.1571736...</td>\n",
       "    </tr>\n",
       "  </tbody>\n",
       "</table>\n",
       "</div>"
      ],
      "text/plain": [
       "  business                                     feature vector\n",
       "0    003sg  [0.14029846, 0.097122177, 0.10904062, 0.155347...\n",
       "1    00er5  [0.13802128, 0.08558739, 0.10501912, 0.1498876...\n",
       "2    00kad  [0.14562644, 0.10004855, 0.12065777, 0.1286887...\n",
       "3    00mc6  [0.14964491, 0.12405226, 0.1319675, 0.1532997,...\n",
       "4    00q7x  [0.11541133, 0.10103348, 0.13063087, 0.1571736..."
      ]
     },
     "execution_count": 8,
     "metadata": {},
     "output_type": "execute_result"
    }
   ],
   "source": [
    "# Check file content\n",
    "test_business = pd.read_csv(data_root+'test_biz_HOGfeatures.csv')\n",
    "print test_business.shape\n",
    "test_business[0:5]"
   ]
  },
  {
   "cell_type": "code",
   "execution_count": null,
   "metadata": {
    "collapsed": true
   },
   "outputs": [],
   "source": []
  }
 ],
 "metadata": {
  "kernelspec": {
   "display_name": "Python 2",
   "language": "python",
   "name": "python2"
  },
  "language_info": {
   "codemirror_mode": {
    "name": "ipython",
    "version": 2
   },
   "file_extension": ".py",
   "mimetype": "text/x-python",
   "name": "python",
   "nbconvert_exporter": "python",
   "pygments_lexer": "ipython2",
   "version": "2.7.11"
  }
 },
 "nbformat": 4,
 "nbformat_minor": 0
}
