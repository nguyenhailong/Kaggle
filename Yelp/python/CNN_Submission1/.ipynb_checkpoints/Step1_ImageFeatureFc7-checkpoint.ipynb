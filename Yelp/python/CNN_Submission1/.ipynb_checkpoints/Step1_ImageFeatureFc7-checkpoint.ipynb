{
 "cells": [
  {
   "cell_type": "markdown",
   "metadata": {
    "slideshow": {
     "slide_type": "-"
    }
   },
   "source": [
    "## PART 1:  Extract features from images using CAFFE"
   ]
  },
  {
   "cell_type": "markdown",
   "metadata": {},
   "source": [
    "## Summary:\n",
    "    Use the pre-trained CaffeNet model to extract features \n",
    "    It's common to use the fc7 layer. Each feature vector will be 4096-dim.\n",
    "    I also tried the last output layer. Each feature will be a 1000-dim probability vector."
   ]
  },
  {
   "cell_type": "markdown",
   "metadata": {},
   "source": [
    "Reference: https://github.com/BVLC/caffe/blob/master/examples/00-classification.ipynb"
   ]
  },
  {
   "cell_type": "code",
   "execution_count": 1,
   "metadata": {
    "collapsed": false
   },
   "outputs": [
    {
     "name": "stderr",
     "output_type": "stream",
     "text": [
      "/home/long/caffe/python/caffe/pycaffe.py:13: RuntimeWarning: to-Python converter for boost::shared_ptr<caffe::Net<float> > already registered; second conversion method ignored.\n",
      "  from ._caffe import Net, SGDSolver, NesterovSolver, AdaGradSolver, \\\n",
      "/home/long/caffe/python/caffe/pycaffe.py:13: RuntimeWarning: to-Python converter for boost::shared_ptr<caffe::Blob<float> > already registered; second conversion method ignored.\n",
      "  from ._caffe import Net, SGDSolver, NesterovSolver, AdaGradSolver, \\\n",
      "/home/long/caffe/python/caffe/pycaffe.py:13: RuntimeWarning: to-Python converter for boost::shared_ptr<caffe::Solver<float> > already registered; second conversion method ignored.\n",
      "  from ._caffe import Net, SGDSolver, NesterovSolver, AdaGradSolver, \\\n",
      "/home/long/anaconda3/envs/py27/lib/python2.7/site-packages/matplotlib/font_manager.py:273: UserWarning: Matplotlib is building the font cache using fc-list. This may take a moment.\n",
      "  warnings.warn('Matplotlib is building the font cache using fc-list. This may take a moment.')\n"
     ]
    }
   ],
   "source": [
    "caffe_root = '/home/long/caffe/'\n",
    "data_root = '/home/long/Destop/Yelp/input/'\n",
    "\n",
    "import numpy as np\n",
    "import sys\n",
    "sys.path.insert(0, caffe_root + 'python')\n",
    "\n",
    "import caffe\n",
    "import os\n",
    "#if not os.path.isfile(caffe_root + 'models/bvlc_reference_caffenet/bvlc_reference_caffenet.caffemodel'):\n",
    "#    print(\"Downloading pre-trained CaffeNet model...\")\n",
    "#    !caffe_root/scripts/download_model_binary.py ../models/bvlc_reference_caffenet\n",
    "    \n",
    "## Use GPU    \n",
    "#caffe.set_device(0)\n",
    "#caffe.set_mode_gpu()"
   ]
  },
  {
   "cell_type": "code",
   "execution_count": 2,
   "metadata": {
    "collapsed": true
   },
   "outputs": [],
   "source": [
    "def extract_features(images, layer = 'fc7'):\n",
    "    net = caffe.Net(caffe_root + 'models/bvlc_reference_caffenet/deploy.prototxt',\n",
    "                caffe_root + 'models/bvlc_reference_caffenet/bvlc_reference_caffenet.caffemodel',\n",
    "                caffe.TEST)\n",
    "    \n",
    "    # input preprocessing: 'data' is the name of the input blob == net.inputs[0]\n",
    "    transformer = caffe.io.Transformer({'data': net.blobs['data'].data.shape})\n",
    "    transformer.set_transpose('data', (2,0,1))\n",
    "    transformer.set_mean('data', np.load(caffe_root + 'python/caffe/imagenet/ilsvrc_2012_mean.npy').mean(1).mean(1)) # mean pixel\n",
    "    transformer.set_raw_scale('data', 255)  # the reference model operates on images in [0,255] range instead of [0,1]\n",
    "    transformer.set_channel_swap('data', (2,1,0))  # the reference model has channels in BGR order instead of RGB]]\n",
    "\n",
    "    num_images= len(images)\n",
    "    net.blobs['data'].reshape(num_images,3,227,227)\n",
    "    net.blobs['data'].data[...] = map(lambda x: transformer.preprocess('data',caffe.io.load_image(x)), images)\n",
    "    out = net.forward()\n",
    "\n",
    "    return net.blobs[layer].data        "
   ]
  },
  {
   "cell_type": "markdown",
   "metadata": {},
   "source": [
    "### Extract features from training image"
   ]
  },
  {
   "cell_type": "code",
   "execution_count": 3,
   "metadata": {
    "collapsed": false,
    "scrolled": true
   },
   "outputs": [
    {
     "name": "stdout",
     "output_type": "stream",
     "text": [
      "Number of training images:  234842\n",
      "Train images processed:  20000\n",
      "Train images processed:  40000\n",
      "Train images processed:  60000\n",
      "Train images processed:  80000\n",
      "Train images processed:  100000\n",
      "Train images processed:  120000\n",
      "Train images processed:  140000\n",
      "Train images processed:  160000\n",
      "Train images processed:  180000\n",
      "Train images processed:  200000\n",
      "Train images processed:  220000\n",
      "Train images processed:  234842\n"
     ]
    }
   ],
   "source": [
    "# extract image features and save it to .h5\n",
    "\n",
    "# Initialize files\n",
    "import h5py\n",
    "#f.close()\n",
    "f = h5py.File(data_root+'train_image_fc7features.h5','w')\n",
    "filenames = f.create_dataset('photo_id',(0,), maxshape=(None,),dtype='|S54')\n",
    "feature = f.create_dataset('feature',(0,4096), maxshape = (None,4096))\n",
    "f.close()\n",
    "\n",
    "import pandas as pd \n",
    "train_photos = pd.read_csv(data_root+'train_photo_to_biz_ids.csv')\n",
    "train_folder = data_root+'train_photos/'\n",
    "train_images = [os.path.join(train_folder, str(x)+'.jpg') for x in train_photos['photo_id']]  # get full filename\n",
    "\n",
    "num_train = len(train_images)\n",
    "print \"Number of training images: \", num_train\n",
    "batch_size = 100\n",
    "\n",
    "# Training Images\n",
    "for i in range(0, num_train, batch_size): \n",
    "    images = train_images[i: min(i+batch_size, num_train)]\n",
    "    features = extract_features(images, layer='fc7')\n",
    "    num_done = i+features.shape[0]\n",
    "    f= h5py.File(data_root+'train_image_fc7features.h5','r+')\n",
    "    f['photo_id'].resize((num_done,))\n",
    "    f['photo_id'][i: num_done] = np.array(images)\n",
    "    f['feature'].resize((num_done,features.shape[1]))\n",
    "    f['feature'][i: num_done, :] = features\n",
    "    f.close()\n",
    "    if num_done%20000==0 or num_done==num_train:\n",
    "        print \"Train images processed: \", num_done"
   ]
  },
  {
   "cell_type": "code",
   "execution_count": 5,
   "metadata": {
    "collapsed": false,
    "scrolled": true
   },
   "outputs": [
    {
     "name": "stdout",
     "output_type": "stream",
     "text": [
      "train_image_features.h5:\n",
      "feature (234842, 4096)\n",
      "photo_id (234842,)\n",
      "\n",
      "A photo: /media/sf_Yelp/input/train_photos/204149.jpg\n",
      "Its feature vector (first 10-dim):  [ 0.         0.         0.         0.         0.         0.1543377  0.         0.\n",
      "  0.         0.       ]  ...\n"
     ]
    }
   ],
   "source": [
    "### Check the file content\n",
    "\n",
    "f = h5py.File(data_root+'train_image_fc7features.h5','r')\n",
    "print 'train_image_features.h5:'\n",
    "for key in f.keys():\n",
    "    print key, f[key].shape\n",
    "    \n",
    "print \"\\nA photo:\", f['photo_id'][0]\n",
    "print \"Its feature vector (first 10-dim): \", f['feature'][0][0:10], \" ...\"\n",
    "f.close()"
   ]
  },
  {
   "cell_type": "markdown",
   "metadata": {},
   "source": [
    "### Extract feature from test images"
   ]
  },
  {
   "cell_type": "code",
   "execution_count": 7,
   "metadata": {
    "collapsed": false
   },
   "outputs": [
    {
     "name": "stdout",
     "output_type": "stream",
     "text": [
      "Number of test images:  237152\n",
      "Test images processed:  20000\n",
      "Test images processed:  40000\n",
      "Test images processed:  60000\n",
      "Test images processed:  80000\n",
      "Test images processed:  100000\n",
      "Test images processed:  120000\n",
      "Test images processed:  140000\n",
      "Test images processed:  160000\n",
      "Test images processed:  180000\n",
      "Test images processed:  200000\n",
      "Test images processed:  220000\n",
      "Test images processed:  237152\n"
     ]
    }
   ],
   "source": [
    "import h5py\n",
    "import pandas as pd\n",
    "batch_size = 100\n",
    "\n",
    "f = h5py.File(data_root+'test_image_fc7features.h5','w')\n",
    "filenames = f.create_dataset('photo_id',(0,), maxshape=(None,),dtype='|S54')\n",
    "feature = f.create_dataset('feature',(0,4096), maxshape = (None,4096))\n",
    "f.close()\n",
    "\n",
    "\n",
    "test_photos = pd.read_csv(data_root+'test_photo_to_biz_ids.csv')\n",
    "test_folder = data_root+'test_photos/'\n",
    "test_images = [os.path.join(test_folder, str(x)+'.jpg') for x in test_photos['photo_id'].unique()]  \n",
    "num_test = len(test_images)\n",
    "print \"Number of test images: \", num_test\n",
    "\n",
    "# Test Images\n",
    "for i in range(0, num_test, batch_size): \n",
    "    images = test_images[i: min(i+batch_size, num_test)]\n",
    "    features = extract_features(images, layer='fc7')\n",
    "    num_done = i+features.shape[0]\n",
    "    \n",
    "    f= h5py.File(data_root+'test_image_fc7features.h5','r+')\n",
    "    f['photo_id'].resize((num_done,))\n",
    "    f['photo_id'][i: num_done] = np.array(images)\n",
    "    f['feature'].resize((num_done,features.shape[1]))\n",
    "    f['feature'][i: num_done, :] = features\n",
    "    f.close()\n",
    "    if num_done%20000==0 or num_done==num_test:\n",
    "        print \"Test images processed: \", num_done"
   ]
  },
  {
   "cell_type": "code",
   "execution_count": 8,
   "metadata": {
    "collapsed": false
   },
   "outputs": [
    {
     "name": "stdout",
     "output_type": "stream",
     "text": [
      "feature (237152, 4096)\n",
      "photo_id (237152,)\n",
      "\n",
      "A photo: /media/sf_Yelp/input/test_photos/317818.jpg\n",
      "feature vector: (first 10-dim) [ 0.          0.          0.          0.          0.          4.35672617\n",
      "  3.14809084  0.34286076  0.          0.        ]  ...\n"
     ]
    }
   ],
   "source": [
    "### Check the file content\n",
    "f = h5py.File(data_root+'test_image_fc7features.h5','r')\n",
    "for key in f.keys():\n",
    "    print key, f[key].shape\n",
    "print \"\\nA photo:\", f['photo_id'][0]\n",
    "print \"feature vector: (first 10-dim)\", f['feature'][0][0:10], \" ...\"\n",
    "f.close()"
   ]
  },
  {
   "cell_type": "code",
   "execution_count": null,
   "metadata": {
    "collapsed": true
   },
   "outputs": [],
   "source": []
  }
 ],
 "metadata": {
  "description": "Instant recognition with a pre-trained model and a tour of the net interface for visualizing features and parameters layer-by-layer.",
  "example_name": "Image Classification and Filter Visualization",
  "include_in_docs": true,
  "kernelspec": {
   "display_name": "Python 2",
   "language": "python",
   "name": "python2"
  },
  "language_info": {
   "codemirror_mode": {
    "name": "ipython",
    "version": 2
   },
   "file_extension": ".py",
   "mimetype": "text/x-python",
   "name": "python",
   "nbconvert_exporter": "python",
   "pygments_lexer": "ipython2",
   "version": "2.7.11"
  },
  "priority": 1
 },
 "nbformat": 4,
 "nbformat_minor": 0
}
