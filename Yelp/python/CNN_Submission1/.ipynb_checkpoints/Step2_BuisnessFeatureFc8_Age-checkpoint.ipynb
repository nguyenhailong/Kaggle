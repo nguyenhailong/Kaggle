{
 "cells": [
  {
   "cell_type": "markdown",
   "metadata": {},
   "source": [
    "# PART 2: Compute a feature vector for each buisness"
   ]
  },
  {
   "cell_type": "markdown",
   "metadata": {},
   "source": [
    "Summary:<br>\n",
    "\n",
    "     This Kaggle competition is a Multiple instance learning (MIL) problem:      \n",
    "     Each training example (a business) has multiple instances (photos).          \n",
    "     We'll use the SimpleMI algorithm briefly mentioned in \n",
    "     https://en.wikipedia.org/wiki/Multiple_instance_learning\n",
    "     \n",
    "     In part 1, we've obtained a 4096-dim feature vector for each image.\n",
    "     In part 2, for each business, we will compute the mean feature vector among images that belong to it.\n",
    "     In this way, each business is correspondent to a single feature, i.e., the mean feature vector."
   ]
  },
  {
   "cell_type": "markdown",
   "metadata": {},
   "source": [
    "## Process buisness in the training set"
   ]
  },
  {
   "cell_type": "code",
   "execution_count": 1,
   "metadata": {
    "collapsed": false
   },
   "outputs": [
    {
     "name": "stdout",
     "output_type": "stream",
     "text": [
      "Number of business:  1996 (4 business with missing labels are dropped)\n",
      "Buisness processed:  1000 Time passed:  5.0 sec\n"
     ]
    }
   ],
   "source": [
    "data_root = '/home/long/Desktop/Yelp/input/'\n",
    "\n",
    "import numpy as np\n",
    "import pandas as pd \n",
    "import h5py\n",
    "import time\n",
    "\n",
    "train_photo_to_biz = pd.read_csv(data_root+'train_photo_to_biz_ids.csv')\n",
    "train_labels = pd.read_csv(data_root+'train.csv').dropna()\n",
    "train_labels['labels'] = train_labels['labels'].apply(lambda x: tuple(sorted(int(t) for t in x.split())))\n",
    "train_labels.set_index('business_id', inplace=True)\n",
    "biz_ids = train_labels.index.unique()\n",
    "print \"Number of business: \", len(biz_ids) ,   \"(4 business with missing labels are dropped)\"\n",
    "\n",
    "## Load image features\n",
    "f = h5py.File(data_root+'train_age_fc8features.h5','r')\n",
    "train_image_features = np.copy(f['feature'])\n",
    "f.close()\n",
    "\n",
    "\n",
    "t= time.time()\n",
    "## For each business, compute a feature vector \n",
    "df = pd.DataFrame(columns=['business','label','feature vector'])\n",
    "index = 0\n",
    "for biz in biz_ids:  \n",
    "    \n",
    "    label = train_labels.loc[biz]['labels']\n",
    "    image_index = train_photo_to_biz[train_photo_to_biz['business_id']==biz].index.tolist()\n",
    "    folder = data_root+'train_photo_folders/'  \n",
    "    \n",
    "    features = train_image_features[image_index]\n",
    "    mean_feature =list(np.mean(features,axis=0))\n",
    "\n",
    "    df.loc[index] = [biz, label, mean_feature]\n",
    "    index+=1\n",
    "    if index%1000==0:\n",
    "        print \"Buisness processed: \", index, \"Time passed: \", \"{0:.1f}\".format(time.time()-t), \"sec\"\n",
    "\n",
    "with open(data_root+\"train_biz_fc8_age_features.csv\",'w') as f:  \n",
    "    df.to_csv(f, index=False)"
   ]
  },
  {
   "cell_type": "code",
   "execution_count": 2,
   "metadata": {
    "collapsed": false,
    "scrolled": true
   },
   "outputs": [
    {
     "name": "stdout",
     "output_type": "stream",
     "text": [
      "(1996, 3)\n"
     ]
    },
    {
     "data": {
      "text/html": [
       "<div>\n",
       "<table border=\"1\" class=\"dataframe\">\n",
       "  <thead>\n",
       "    <tr style=\"text-align: right;\">\n",
       "      <th></th>\n",
       "      <th>business</th>\n",
       "      <th>label</th>\n",
       "      <th>feature vector</th>\n",
       "    </tr>\n",
       "  </thead>\n",
       "  <tbody>\n",
       "    <tr>\n",
       "      <th>0</th>\n",
       "      <td>1000.0</td>\n",
       "      <td>(1, 2, 3, 4, 5, 6, 7)</td>\n",
       "      <td>[0.20032024, 0.44084537, 0.23249489, 0.3600976...</td>\n",
       "    </tr>\n",
       "    <tr>\n",
       "      <th>1</th>\n",
       "      <td>1001.0</td>\n",
       "      <td>(0, 1, 6, 8)</td>\n",
       "      <td>[0.0013769998, 0.59398097, 0.55060995, 0.18394...</td>\n",
       "    </tr>\n",
       "    <tr>\n",
       "      <th>2</th>\n",
       "      <td>100.0</td>\n",
       "      <td>(1, 2, 4, 5, 6, 7)</td>\n",
       "      <td>[0.11435749, 0.033177156, 0.12572332, 0.539482...</td>\n",
       "    </tr>\n",
       "    <tr>\n",
       "      <th>3</th>\n",
       "      <td>1006.0</td>\n",
       "      <td>(1, 2, 4, 5, 6)</td>\n",
       "      <td>[0.075851507, 0.052600037, 0.059594199, 0.7067...</td>\n",
       "    </tr>\n",
       "    <tr>\n",
       "      <th>4</th>\n",
       "      <td>1010.0</td>\n",
       "      <td>(0, 6, 8)</td>\n",
       "      <td>[0.39024171, 0.28424361, 0.0, 0.1655795, 0.460...</td>\n",
       "    </tr>\n",
       "  </tbody>\n",
       "</table>\n",
       "</div>"
      ],
      "text/plain": [
       "   business                  label  \\\n",
       "0    1000.0  (1, 2, 3, 4, 5, 6, 7)   \n",
       "1    1001.0           (0, 1, 6, 8)   \n",
       "2     100.0     (1, 2, 4, 5, 6, 7)   \n",
       "3    1006.0        (1, 2, 4, 5, 6)   \n",
       "4    1010.0              (0, 6, 8)   \n",
       "\n",
       "                                      feature vector  \n",
       "0  [0.20032024, 0.44084537, 0.23249489, 0.3600976...  \n",
       "1  [0.0013769998, 0.59398097, 0.55060995, 0.18394...  \n",
       "2  [0.11435749, 0.033177156, 0.12572332, 0.539482...  \n",
       "3  [0.075851507, 0.052600037, 0.059594199, 0.7067...  \n",
       "4  [0.39024171, 0.28424361, 0.0, 0.1655795, 0.460...  "
      ]
     },
     "execution_count": 2,
     "metadata": {},
     "output_type": "execute_result"
    }
   ],
   "source": [
    "# Check file content\n",
    "train_business = pd.read_csv(data_root+'train_biz_fc8_age_features.csv')\n",
    "print train_business.shape\n",
    "train_business[0:5]"
   ]
  },
  {
   "cell_type": "markdown",
   "metadata": {},
   "source": [
    "## Process business in the test set"
   ]
  },
  {
   "cell_type": "code",
   "execution_count": 1,
   "metadata": {
    "collapsed": true
   },
   "outputs": [],
   "source": [
    "data_root = '/home/long/Desktop/Yelp/input/'\n",
    "\n",
    "import numpy as np\n",
    "import pandas as pd \n",
    "import h5py\n",
    "import time"
   ]
  },
  {
   "cell_type": "code",
   "execution_count": null,
   "metadata": {
    "collapsed": false
   },
   "outputs": [
    {
     "name": "stdout",
     "output_type": "stream",
     "text": [
      "Number of business:  10000\n",
      "Buisness processed:  1000 Time passed:  131.6 sec\n"
     ]
    }
   ],
   "source": [
    "test_photo_to_biz = pd.read_csv(data_root+'test_photo_to_biz_ids.csv')\n",
    "biz_ids = test_photo_to_biz['business_id'].unique()\n",
    "\n",
    "## Load image features\n",
    "f = h5py.File(data_root+'test_age_fc8features.h5','r')\n",
    "image_filenames = list(np.copy(f['photo_id']))\n",
    "image_filenames = [name.split('/')[-1][:-4] for name in image_filenames]  #remove the full path and the str \".jpg\"\n",
    "image_features = np.copy(f['feature'])\n",
    "f.close()\n",
    "print \"Number of business: \", len(biz_ids)\n",
    "\n",
    "df = pd.DataFrame(columns=['business','feature vector'])\n",
    "index = 0\n",
    "t = time.time()\n",
    "\n",
    "for biz in biz_ids:     \n",
    "    \n",
    "    image_ids = test_photo_to_biz[test_photo_to_biz['business_id']==biz]['photo_id'].tolist()  \n",
    "    image_index = [image_filenames.index(str(x)) for x in image_ids]\n",
    "     \n",
    "    folder = data_root+'test_photo_folders/'            \n",
    "    features = image_features[image_index]\n",
    "    mean_feature =list(np.mean(features,axis=0))\n",
    "\n",
    "    df.loc[index] = [biz, mean_feature]\n",
    "    index+=1\n",
    "    if index%1000==0:\n",
    "        print \"Buisness processed: \", index, \"Time passed: \", \"{0:.1f}\".format(time.time()-t), \"sec\"\n",
    "\n",
    "with open(data_root+\"test_biz_fc8_age_features.csv\",'w') as f:  \n",
    "    df.to_csv(f, index=False)"
   ]
  },
  {
   "cell_type": "code",
   "execution_count": null,
   "metadata": {
    "collapsed": false,
    "scrolled": true
   },
   "outputs": [],
   "source": [
    "# Check file content\n",
    "test_business = pd.read_csv(data_root+'test_biz_fc8_age_features.csv')\n",
    "print test_business.shape\n",
    "test_business[0:5]"
   ]
  },
  {
   "cell_type": "code",
   "execution_count": null,
   "metadata": {
    "collapsed": true
   },
   "outputs": [],
   "source": []
  }
 ],
 "metadata": {
  "kernelspec": {
   "display_name": "Python 2",
   "language": "python",
   "name": "python2"
  },
  "language_info": {
   "codemirror_mode": {
    "name": "ipython",
    "version": 2
   },
   "file_extension": ".py",
   "mimetype": "text/x-python",
   "name": "python",
   "nbconvert_exporter": "python",
   "pygments_lexer": "ipython2",
   "version": "2.7.11"
  }
 },
 "nbformat": 4,
 "nbformat_minor": 0
}
