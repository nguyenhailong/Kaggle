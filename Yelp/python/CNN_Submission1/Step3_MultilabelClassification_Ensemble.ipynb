{
 "cells": [
  {
   "cell_type": "markdown",
   "metadata": {},
   "source": [
    "# PART3: Multilabel-Classification using scikit-learn Linear models"
   ]
  },
  {
   "cell_type": "markdown",
   "metadata": {},
   "source": [
    "## Load Data"
   ]
  },
  {
   "cell_type": "code",
   "execution_count": 1,
   "metadata": {
    "collapsed": false
   },
   "outputs": [],
   "source": [
    "import numpy as np\n",
    "import pandas as pd \n",
    "\n",
    "data_root = '/media/sf_Yelp/input/'\n",
    "\n",
    "train_photos = pd.read_csv(data_root+'train_photo_to_biz_ids.csv')\n",
    "train_photo_to_biz = pd.read_csv(data_root+'train_photo_to_biz_ids.csv', index_col='photo_id')\n",
    "\n",
    "train_df = pd.read_csv(data_root+\"train_biz_fc7features_extra2.csv\")\n",
    "test_df  = pd.read_csv(data_root+\"test_biz_fc7features_extra2.csv\")\n",
    "\n",
    "y_train = train_df['label'].values\n",
    "X_train = train_df['feature vector'].values\n",
    "X_test = test_df['feature vector'].values\n",
    "\n",
    "def convert_label_to_array(str_label):\n",
    "    str_label = str_label[1:-1]\n",
    "    str_label = str_label.split(',')\n",
    "    return [int(x) for x in str_label if len(x)>0]\n",
    "\n",
    "def convert_feature_to_vector(str_feature):\n",
    "    str_feature = str_feature[1:-1]\n",
    "    str_feature = str_feature.split(',')\n",
    "    return [float(x) for x in str_feature]\n",
    "\n",
    "y_train = np.array([convert_label_to_array(y) for y in train_df['label']])\n",
    "X_train = np.array([convert_feature_to_vector(x) for x in train_df['feature vector']])\n",
    "X_test = np.array([convert_feature_to_vector(x) for x in test_df['feature vector']])\n"
   ]
  },
  {
   "cell_type": "code",
   "execution_count": 2,
   "metadata": {
    "collapsed": false,
    "scrolled": true
   },
   "outputs": [
    {
     "name": "stdout",
     "output_type": "stream",
     "text": [
      "X_train:  (1996, 8192)\n",
      "y_train:  (1996,)\n",
      "X_test:  (10000, 8192)\n",
      "train_df:\n"
     ]
    },
    {
     "data": {
      "text/html": [
       "<div>\n",
       "<table border=\"1\" class=\"dataframe\">\n",
       "  <thead>\n",
       "    <tr style=\"text-align: right;\">\n",
       "      <th></th>\n",
       "      <th>business</th>\n",
       "      <th>label</th>\n",
       "      <th>feature vector</th>\n",
       "    </tr>\n",
       "  </thead>\n",
       "  <tbody>\n",
       "    <tr>\n",
       "      <th>0</th>\n",
       "      <td>1000.0</td>\n",
       "      <td>(1, 2, 3, 4, 5, 6, 7)</td>\n",
       "      <td>[0.20032024, 0.44084537, 0.23249489, 0.3600976...</td>\n",
       "    </tr>\n",
       "    <tr>\n",
       "      <th>1</th>\n",
       "      <td>1001.0</td>\n",
       "      <td>(0, 1, 6, 8)</td>\n",
       "      <td>[0.0013769998, 0.59398097, 0.55060995, 0.18394...</td>\n",
       "    </tr>\n",
       "    <tr>\n",
       "      <th>2</th>\n",
       "      <td>100.0</td>\n",
       "      <td>(1, 2, 4, 5, 6, 7)</td>\n",
       "      <td>[0.11435749, 0.033177156, 0.12572332, 0.539482...</td>\n",
       "    </tr>\n",
       "    <tr>\n",
       "      <th>3</th>\n",
       "      <td>1006.0</td>\n",
       "      <td>(1, 2, 4, 5, 6)</td>\n",
       "      <td>[0.075851507, 0.052600037, 0.059594199, 0.7067...</td>\n",
       "    </tr>\n",
       "    <tr>\n",
       "      <th>4</th>\n",
       "      <td>1010.0</td>\n",
       "      <td>(0, 6, 8)</td>\n",
       "      <td>[0.39024171, 0.28424361, 0.0, 0.1655795, 0.460...</td>\n",
       "    </tr>\n",
       "  </tbody>\n",
       "</table>\n",
       "</div>"
      ],
      "text/plain": [
       "   business                  label  \\\n",
       "0    1000.0  (1, 2, 3, 4, 5, 6, 7)   \n",
       "1    1001.0           (0, 1, 6, 8)   \n",
       "2     100.0     (1, 2, 4, 5, 6, 7)   \n",
       "3    1006.0        (1, 2, 4, 5, 6)   \n",
       "4    1010.0              (0, 6, 8)   \n",
       "\n",
       "                                      feature vector  \n",
       "0  [0.20032024, 0.44084537, 0.23249489, 0.3600976...  \n",
       "1  [0.0013769998, 0.59398097, 0.55060995, 0.18394...  \n",
       "2  [0.11435749, 0.033177156, 0.12572332, 0.539482...  \n",
       "3  [0.075851507, 0.052600037, 0.059594199, 0.7067...  \n",
       "4  [0.39024171, 0.28424361, 0.0, 0.1655795, 0.460...  "
      ]
     },
     "execution_count": 2,
     "metadata": {},
     "output_type": "execute_result"
    }
   ],
   "source": [
    "print \"X_train: \", X_train.shape\n",
    "print \"y_train: \", y_train.shape\n",
    "print \"X_test: \", X_test.shape\n",
    "print \"train_df:\"\n",
    "train_df[0:5]"
   ]
  },
  {
   "cell_type": "markdown",
   "metadata": {},
   "source": [
    "## Train a SVM using cross-validation and assess performance(F1-score)"
   ]
  },
  {
   "cell_type": "code",
   "execution_count": 11,
   "metadata": {
    "collapsed": false,
    "scrolled": true
   },
   "outputs": [
    {
     "name": "stdout",
     "output_type": "stream",
     "text": [
      "Time passed:  797.2 sec\n"
     ]
    },
    {
     "name": "stderr",
     "output_type": "stream",
     "text": [
      "[Parallel(n_jobs=1)]: Done   2 out of   2 | elapsed: 13.3min finished\n"
     ]
    }
   ],
   "source": [
    "from sklearn import svm, datasets\n",
    "from sklearn.cross_validation import train_test_split\n",
    "from sklearn.preprocessing import label_binarize\n",
    "from sklearn.multiclass import OneVsRestClassifier\n",
    "from sklearn.preprocessing import MultiLabelBinarizer\n",
    "import xgboost as xgb\n",
    "from sklearn import linear_model\n",
    "from sklearn.ensemble import ExtraTreesClassifier \n",
    "from sklearn import cross_validation\n",
    "from sklearn.metrics import f1_score\n",
    "\n",
    "import time\n",
    "t=time.time()\n",
    "\n",
    "mlb = MultiLabelBinarizer()\n",
    "y_ptrain= mlb.fit_transform(y_train)  #Convert list of labels to binary matrix\n",
    "\n",
    "SEED = 0\n",
    "random_state = np.random.RandomState(SEED)\n",
    "#X_ptrain, X_ptest, y_ptrain, y_ptest = train_test_split(X_train, y_ptrain, test_size=.2,random_state=random_state)\n",
    "classifier = OneVsRestClassifier(xgb.XGBClassifier(max_depth=4, n_estimators=500))\n",
    "#classifier.fit(X_ptrain, y_ptrain)\n",
    "#y_ppredict = classifier.predict(X_ptest)\n",
    "y_ppredict = cross_validation.cross_val_predict(classifier, X_train, y_ptrain, cv=2, verbose =1)\n",
    "\n",
    "print \"Time passed: \", \"{0:.1f}\".format(time.time()-t), \"sec\""
   ]
  },
  {
   "cell_type": "code",
   "execution_count": 12,
   "metadata": {
    "collapsed": false
   },
   "outputs": [
    {
     "name": "stdout",
     "output_type": "stream",
     "text": [
      "Samples of predicted labels (in binary matrix):\n",
      "[[0 1 1 1 1 1 1 1 0]\n",
      " [1 0 0 0 0 0 0 0 1]\n",
      " [0 1 1 0 1 1 1 1 0]]\n",
      "\n",
      "Samples of predicted labels:\n",
      "[(1, 2, 3, 4, 5, 6, 7), (0, 8), (1, 2, 4, 5, 6, 7)]\n"
     ]
    }
   ],
   "source": [
    "print \"Samples of predicted labels (in binary matrix):\\n\", y_ppredict[0:3]\n",
    "print \"\\nSamples of predicted labels:\\n\", mlb.inverse_transform(y_ppredict[0:3])"
   ]
  },
  {
   "cell_type": "code",
   "execution_count": 13,
   "metadata": {
    "collapsed": false
   },
   "outputs": [
    {
     "data": {
      "text/html": [
       "<div>\n",
       "<table border=\"1\" class=\"dataframe\">\n",
       "  <thead>\n",
       "    <tr style=\"text-align: right;\">\n",
       "      <th></th>\n",
       "      <th>attribuite 0</th>\n",
       "      <th>attribuite 1</th>\n",
       "      <th>attribuite 2</th>\n",
       "      <th>attribuite 3</th>\n",
       "      <th>attribuite 4</th>\n",
       "      <th>attribuite 5</th>\n",
       "      <th>attribuite 6</th>\n",
       "      <th>attribuite 7</th>\n",
       "      <th>attribuite 8</th>\n",
       "      <th>num_biz</th>\n",
       "    </tr>\n",
       "  </thead>\n",
       "  <tbody>\n",
       "    <tr>\n",
       "      <th>biz count</th>\n",
       "      <td>579</td>\n",
       "      <td>943</td>\n",
       "      <td>967</td>\n",
       "      <td>943</td>\n",
       "      <td>488</td>\n",
       "      <td>1233</td>\n",
       "      <td>1399</td>\n",
       "      <td>556</td>\n",
       "      <td>1265</td>\n",
       "      <td>1996</td>\n",
       "    </tr>\n",
       "    <tr>\n",
       "      <th>biz ratio</th>\n",
       "      <td>29%</td>\n",
       "      <td>47%</td>\n",
       "      <td>48%</td>\n",
       "      <td>47%</td>\n",
       "      <td>24%</td>\n",
       "      <td>62%</td>\n",
       "      <td>70%</td>\n",
       "      <td>28%</td>\n",
       "      <td>63%</td>\n",
       "      <td>100%</td>\n",
       "    </tr>\n",
       "  </tbody>\n",
       "</table>\n",
       "</div>"
      ],
      "text/plain": [
       "          attribuite 0 attribuite 1 attribuite 2 attribuite 3 attribuite 4  \\\n",
       "biz count          579          943          967          943          488   \n",
       "biz ratio          29%          47%          48%          47%          24%   \n",
       "\n",
       "          attribuite 5 attribuite 6 attribuite 7 attribuite 8 num_biz  \n",
       "biz count         1233         1399          556         1265    1996  \n",
       "biz ratio          62%          70%          28%          63%    100%  "
      ]
     },
     "execution_count": 13,
     "metadata": {},
     "output_type": "execute_result"
    }
   ],
   "source": [
    "statistics = pd.DataFrame(columns=[ \"attribuite \"+str(i) for i in range(9)]+['num_biz'], index = [\"biz count\", \"biz ratio\"])\n",
    "statistics.loc[\"biz count\"] = np.append(np.sum(y_ppredict, axis=0), len(y_ppredict))\n",
    "pd.options.display.float_format = '{:.0f}%'.format\n",
    "statistics.loc[\"biz ratio\"] = statistics.loc[\"biz count\"]*100/len(y_ppredict) \n",
    "statistics"
   ]
  },
  {
   "cell_type": "code",
   "execution_count": 14,
   "metadata": {
    "collapsed": false
   },
   "outputs": [
    {
     "name": "stdout",
     "output_type": "stream",
     "text": [
      "F1 score:  0.823743541569\n",
      "Individual Class F1 score:  [ 0.6688      0.82954545  0.86603111  0.65981501  0.76135266  0.88074134\n",
      "  0.92352302  0.75531915  0.88054335]\n"
     ]
    }
   ],
   "source": [
    "from sklearn.metrics import f1_score\n",
    "\n",
    "print \"F1 score: \", f1_score(y_ptrain, y_ppredict, average='micro') \n",
    "print \"Individual Class F1 score: \", f1_score(y_ptrain, y_ppredict, average=None)"
   ]
  },
  {
   "cell_type": "markdown",
   "metadata": {},
   "source": [
    "## Re-Train an ensemble using all training data, and make predictions on test set"
   ]
  },
  {
   "cell_type": "code",
   "execution_count": 3,
   "metadata": {
    "collapsed": false,
    "scrolled": true
   },
   "outputs": [
    {
     "name": "stdout",
     "output_type": "stream",
     "text": [
      "Time passed:  342.0 sec\n",
      "Time passed:  770.5 sec\n",
      "Time passed:  1838.5 sec\n"
     ]
    }
   ],
   "source": [
    "## Uncomment if skip previous train\n",
    "from sklearn import svm\n",
    "from sklearn.preprocessing import label_binarize\n",
    "from sklearn.multiclass import OneVsRestClassifier\n",
    "from sklearn.preprocessing import MultiLabelBinarizer\n",
    "import time\n",
    "import xgboost as xgb\n",
    "from sklearn.svm import LinearSVC\n",
    "from sklearn import linear_model\n",
    "from sklearn.ensemble import RandomForestClassifier\n",
    "#from sklearn.ensemble import AdaBoostClassifier\n",
    "\n",
    "t = time.time()\n",
    "\n",
    "mlb = MultiLabelBinarizer()\n",
    "y_train= mlb.fit_transform(y_train)  #Convert list of labels to binary matrix\n",
    "\n",
    "SEED = 0\n",
    "random_state = np.random.RandomState(SEED)\n",
    "classifier1 = OneVsRestClassifier(linear_model.LogisticRegressionCV())\n",
    "classifier1.fit(X_train, y_train)\n",
    "y_predict1 = classifier1.predict_proba(X_test)\n",
    "print \"Time passed: \", \"{0:.1f}\".format(time.time()-t), \"sec\"\n",
    "\n",
    "rfc = RandomForestClassifier(n_estimators=1000, criterion='entropy', max_depth=None,\n",
    "                                min_samples_split=4, min_samples_leaf=3,\n",
    "                                max_features='auto', bootstrap=True,\n",
    "                                oob_score=True, n_jobs=-1,\n",
    "                                random_state=SEED, verbose=0)\n",
    "classifier2 = OneVsRestClassifier(rfc)\n",
    "classifier2.fit(X_train, y_train)\n",
    "y_predict2 = classifier2.predict_proba(X_test)\n",
    "print \"Time passed: \", \"{0:.1f}\".format(time.time()-t), \"sec\"\n",
    "\n",
    "classifier3 = OneVsRestClassifier(xgb.XGBClassifier(max_depth=4, n_estimators=500))\n",
    "classifier3.fit(X_train, y_train)\n",
    "y_predict3 = classifier3.predict_proba(X_test)\n",
    "\n",
    "classifier3 = OneVsRestClassifier(xgb.XGBClassifier(max_depth=4, n_estimators=500))\n",
    "classifier3.fit(X_train, y_train)\n",
    "y_predict3 = classifier3.predict_proba(X_test)\n",
    "\n",
    "print \"Time passed: \", \"{0:.1f}\".format(time.time()-t), \"sec\""
   ]
  },
  {
   "cell_type": "code",
   "execution_count": 6,
   "metadata": {
    "collapsed": false
   },
   "outputs": [
    {
     "name": "stdout",
     "output_type": "stream",
     "text": [
      "Samples of predicted labels (in binary matrix):\n",
      "[[ 0.16210729  0.8767039   0.83367635  0.63187958  0.25629034  0.94028566\n",
      "   0.94268152  0.31519181  0.40275532]\n",
      " [ 0.17267556  0.70747467  0.77021101  0.59990199  0.18312109  0.85268099\n",
      "   0.91039362  0.26223796  0.77149978]\n",
      " [ 0.17874441  0.46318122  0.61745119  0.56113699  0.03348489  0.84580967\n",
      "   0.80912967  0.26228757  0.58660279]]\n",
      "Samples of predicted labels (in binary matrix):\n",
      "[[ 0.07612857  0.85367857  0.9418      0.79181667  0.60460595  0.96516071\n",
      "   0.97937778  0.56252619  0.25453193]\n",
      " [ 0.06363333  0.76885556  0.89991667  0.82049286  0.47321429  0.96256667\n",
      "   0.95740714  0.55124762  0.46209877]\n",
      " [ 0.17049405  0.61960079  0.68812857  0.63968611  0.21865     0.82090476\n",
      "   0.85648333  0.28507897  0.50713413]]\n",
      "Samples of predicted labels (in binary matrix):\n",
      "[[  6.37073768e-04   9.83949482e-01   9.98724163e-01   9.95703757e-01\n",
      "    1.24399580e-01   9.99744117e-01   9.99948740e-01   6.73743486e-01\n",
      "    1.70630366e-01]\n",
      " [  1.05992127e-02   9.84562695e-01   9.98514354e-01   9.88046885e-01\n",
      "    1.51139364e-01   9.98464942e-01   9.99861956e-01   9.10858095e-01\n",
      "    8.85223210e-01]\n",
      " [  4.29243455e-03   5.45514524e-01   9.83311176e-01   9.50493515e-01\n",
      "    1.00341206e-02   9.95275736e-01   9.93764877e-01   1.18519086e-02\n",
      "    2.47795701e-01]]\n",
      "Samples of ensemble predict labels (in binary matrix):\n",
      "[[False  True  True  True False  True  True  True False]\n",
      " [False  True  True  True False  True  True  True  True]\n",
      " [False  True  True  True False  True  True False False]]\n",
      "Samples of y_predict_label (in binary matrix):\n",
      "[(1, 2, 3, 5, 6, 7), (1, 2, 3, 5, 6, 7, 8), (1, 2, 3, 5, 6)]\n"
     ]
    }
   ],
   "source": [
    "print \"Samples of predicted labels (in binary matrix):\\n\", y_predict1[0:3]\n",
    "print \"Samples of predicted labels (in binary matrix):\\n\", y_predict2[0:3]\n",
    "print \"Samples of predicted labels (in binary matrix):\\n\", y_predict3[0:3]\n",
    "\n",
    "ensemble_predict = (y_predict1 + y_predict2+ y_predict3)/3\n",
    "ensemble_predict = ensemble_predict >0.5\n",
    "print \"Samples of ensemble predict labels (in binary matrix):\\n\", ensemble_predict[0:3]\n",
    "#print list(mlb.classes_)\n",
    "y_predict_label = mlb.inverse_transform(ensemble_predict) #Convert binary matrix back to labels\n",
    "print \"Samples of y_predict_label (in binary matrix):\\n\", y_predict_label[0:3]"
   ]
  },
  {
   "cell_type": "code",
   "execution_count": 7,
   "metadata": {
    "collapsed": false
   },
   "outputs": [
    {
     "data": {
      "text/plain": [
       "(10000, 8192)"
      ]
     },
     "execution_count": 7,
     "metadata": {},
     "output_type": "execute_result"
    }
   ],
   "source": [
    "X_test.shape"
   ]
  },
  {
   "cell_type": "code",
   "execution_count": 8,
   "metadata": {
    "collapsed": false
   },
   "outputs": [],
   "source": [
    "test_data_frame  = pd.read_csv(data_root+\"test_biz_fc7features.csv\")\n",
    "df = pd.DataFrame(columns=['business_id','labels'])\n",
    "\n",
    "for i in range(len(test_data_frame)):\n",
    "    biz = test_data_frame.loc[i]['business']\n",
    "    label = y_predict_label[i]\n",
    "    label = str(label)[1:-1].replace(\",\", \" \")\n",
    "    df.loc[i] = [str(biz), label]\n",
    "\n",
    "with open(data_root+\"../submissions/ensemble_submission_fc7.csv\",'w') as f:\n",
    "    df.to_csv(f, index=False)    \n",
    "    "
   ]
  },
  {
   "cell_type": "code",
   "execution_count": 11,
   "metadata": {
    "collapsed": false
   },
   "outputs": [
    {
     "data": {
      "text/html": [
       "<div>\n",
       "<table border=\"1\" class=\"dataframe\">\n",
       "  <thead>\n",
       "    <tr style=\"text-align: right;\">\n",
       "      <th></th>\n",
       "      <th>attribuite 0</th>\n",
       "      <th>attribuite 1</th>\n",
       "      <th>attribuite 2</th>\n",
       "      <th>attribuite 3</th>\n",
       "      <th>attribuite 4</th>\n",
       "      <th>attribuite 5</th>\n",
       "      <th>attribuite 6</th>\n",
       "      <th>attribuite 7</th>\n",
       "      <th>attribuite 8</th>\n",
       "      <th>num_biz</th>\n",
       "    </tr>\n",
       "  </thead>\n",
       "  <tbody>\n",
       "    <tr>\n",
       "      <th>biz count</th>\n",
       "      <td>677</td>\n",
       "      <td>8108</td>\n",
       "      <td>8510</td>\n",
       "      <td>6583</td>\n",
       "      <td>1754</td>\n",
       "      <td>9082</td>\n",
       "      <td>9364</td>\n",
       "      <td>1734</td>\n",
       "      <td>5232</td>\n",
       "      <td>10000</td>\n",
       "    </tr>\n",
       "    <tr>\n",
       "      <th>biz ratio</th>\n",
       "      <td>7%</td>\n",
       "      <td>81%</td>\n",
       "      <td>85%</td>\n",
       "      <td>66%</td>\n",
       "      <td>18%</td>\n",
       "      <td>91%</td>\n",
       "      <td>94%</td>\n",
       "      <td>17%</td>\n",
       "      <td>52%</td>\n",
       "      <td>100%</td>\n",
       "    </tr>\n",
       "  </tbody>\n",
       "</table>\n",
       "</div>"
      ],
      "text/plain": [
       "          attribuite 0 attribuite 1 attribuite 2 attribuite 3 attribuite 4  \\\n",
       "biz count          677         8108         8510         6583         1754   \n",
       "biz ratio           7%          81%          85%          66%          18%   \n",
       "\n",
       "          attribuite 5 attribuite 6 attribuite 7 attribuite 8 num_biz  \n",
       "biz count         9082         9364         1734         5232   10000  \n",
       "biz ratio          91%          94%          17%          52%    100%  "
      ]
     },
     "execution_count": 11,
     "metadata": {},
     "output_type": "execute_result"
    }
   ],
   "source": [
    "statistics = pd.DataFrame(columns=[ \"attribuite \"+str(i) for i in range(9)]+['num_biz'], index = [\"biz count\", \"biz ratio\"])\n",
    "statistics.loc[\"biz count\"] = np.append(np.sum(ensemble_predict, axis=0), len(ensemble_predict))\n",
    "pd.options.display.float_format = '{:.0f}%'.format\n",
    "statistics.loc[\"biz ratio\"] = statistics.loc[\"biz count\"]*100/len(ensemble_predict) \n",
    "statistics"
   ]
  },
  {
   "cell_type": "code",
   "execution_count": null,
   "metadata": {
    "collapsed": true
   },
   "outputs": [],
   "source": [
    "#LB score: 0.76437 (use fc7 layer)\n",
    "#LB score: 0.73053 (use prob layer)"
   ]
  },
  {
   "cell_type": "code",
   "execution_count": 15,
   "metadata": {
    "collapsed": false
   },
   "outputs": [],
   "source": [
    "np.savetxt(data_root+\"../submissions/ensemble/LRcv_submission_fc7.csv\", y_predict1, delimiter=\",\")\n",
    "np.savetxt(data_root+\"../submissions/ensemble/RF_submission_fc7.csv\", y_predict2, delimiter=\",\")\n",
    "np.savetxt(data_root+\"../submissions/ensemble/XGB_submission_fc7.csv\", y_predict3, delimiter=\",\")"
   ]
  },
  {
   "cell_type": "code",
   "execution_count": null,
   "metadata": {
    "collapsed": true
   },
   "outputs": [],
   "source": []
  }
 ],
 "metadata": {
  "kernelspec": {
   "display_name": "Python 2",
   "language": "python",
   "name": "python2"
  },
  "language_info": {
   "codemirror_mode": {
    "name": "ipython",
    "version": 2
   },
   "file_extension": ".py",
   "mimetype": "text/x-python",
   "name": "python",
   "nbconvert_exporter": "python",
   "pygments_lexer": "ipython2",
   "version": "2.7.11"
  }
 },
 "nbformat": 4,
 "nbformat_minor": 0
}
