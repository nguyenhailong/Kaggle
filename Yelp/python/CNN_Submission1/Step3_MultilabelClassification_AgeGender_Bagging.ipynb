{
 "cells": [
  {
   "cell_type": "markdown",
   "metadata": {},
   "source": [
    "# PART3: Multilabel-Classification using scikit-learn Linear models"
   ]
  },
  {
   "cell_type": "markdown",
   "metadata": {},
   "source": [
    "## Load Data"
   ]
  },
  {
   "cell_type": "code",
   "execution_count": 26,
   "metadata": {
    "collapsed": true
   },
   "outputs": [],
   "source": [
    "import numpy as np\n",
    "import pandas as pd \n",
    "\n",
    "#data_root = '/media/sf_Yelp/input/'\n",
    "data_root = '/home/long/Desktop/Yelp/input/'\n",
    "\n",
    "train_photos = pd.read_csv(data_root+'train_photo_to_biz_ids.csv')\n",
    "train_photo_to_biz = pd.read_csv(data_root+'train_photo_to_biz_ids.csv', index_col='photo_id')\n",
    "\n",
    "train_df = pd.read_csv(data_root+\"train_biz_fc7features.csv\")\n",
    "test_df  = pd.read_csv(data_root+\"test_biz_fc7features.csv\")\n",
    "\n",
    "y_train = train_df['label'].values\n",
    "X_train = train_df['feature vector'].values\n",
    "X_test = test_df['feature vector'].values\n",
    "\n",
    "#Age gender features\n",
    "train_age_df = pd.read_csv(data_root+\"train_biz_fc8_age_features.csv\")\n",
    "test_age_df  = pd.read_csv(data_root+\"test_biz_fc8_age_features.csv\")\n",
    "\n",
    "train_gender_df = pd.read_csv(data_root+\"train_biz_fc8_gender_features.csv\")\n",
    "test_gender_df  = pd.read_csv(data_root+\"test_biz_fc8_gender_features.csv\")\n"
   ]
  },
  {
   "cell_type": "code",
   "execution_count": 27,
   "metadata": {
    "collapsed": false
   },
   "outputs": [
    {
     "name": "stdout",
     "output_type": "stream",
     "text": [
      "0.0\n",
      "0.0\n"
     ]
    }
   ],
   "source": [
    "def convert_label_to_array(str_label):\n",
    "    str_label = str_label[1:-1]\n",
    "    str_label = str_label.split(',')\n",
    "    return [int(x) for x in str_label if len(x)>0]\n",
    "\n",
    "import re\n",
    "def convert_feature_to_vector(str_feature):\n",
    "    str_feature = re.sub('[\\]\\[!@#$]', '', str_feature)\n",
    "    #str_feature = str_feature[1:-1]\n",
    "    str_feature = str_feature.split(',')\n",
    "    return [float(x) for x in str_feature]\n",
    "\n",
    "print sum(train_df['business'] - train_age_df['business'])\n",
    "print sum(train_df['business'] - train_gender_df['business'])\n",
    "train_df['feature vector'] = train_age_df['feature vector'] + ',' + train_gender_df['feature vector'] + ',' + train_df['feature vector'] \n",
    "test_df['feature vector'] = test_age_df['feature vector'] + ',' + test_gender_df['feature vector'] + ',' + test_df['feature vector'] \n",
    "\n",
    "y_train = np.array([convert_label_to_array(y) for y in train_df['label']])\n",
    "X_train = np.array([convert_feature_to_vector(x) for x in train_df['feature vector']])\n",
    "X_test = np.array([convert_feature_to_vector(x) for x in test_df['feature vector']])"
   ]
  },
  {
   "cell_type": "code",
   "execution_count": 3,
   "metadata": {
    "collapsed": false,
    "scrolled": true
   },
   "outputs": [
    {
     "name": "stdout",
     "output_type": "stream",
     "text": [
      "X_train:  (1996, 4106)\n",
      "y_train:  (1996,)\n",
      "X_test:  (10000, 4106)\n",
      "train_df:\n",
      "   business                  label  \\\n",
      "0    1000.0  (1, 2, 3, 4, 5, 6, 7)   \n",
      "1    1001.0           (0, 1, 6, 8)   \n",
      "2     100.0     (1, 2, 4, 5, 6, 7)   \n",
      "3    1006.0        (1, 2, 4, 5, 6)   \n",
      "4    1010.0              (0, 6, 8)   \n",
      "\n",
      "                                      feature vector  \n",
      "0  [-1.7518281, -2.5073791, -1.1439633, -1.309718...  \n",
      "1  [-2.8106494, -2.1684897, -1.1240553, -1.027255...  \n",
      "2  [-0.44846466, -1.6965714, -0.61568594, -1.9498...  \n",
      "3  [-0.98842466, -2.3486288, -1.0032905, -1.95205...  \n",
      "4  [-2.5805631, -2.7594094, -1.7486759, -1.669193...  \n",
      "[[1, 2, 3, 4, 5, 6, 7] [0, 1, 6, 8] [1, 2, 4, 5, 6, 7]]\n"
     ]
    }
   ],
   "source": [
    "print \"X_train: \", X_train.shape\n",
    "print \"y_train: \", y_train.shape\n",
    "print \"X_test: \", X_test.shape\n",
    "print \"train_df:\"\n",
    "print train_df[0:5]\n",
    "print y_train[0:3]"
   ]
  },
  {
   "cell_type": "markdown",
   "metadata": {},
   "source": [
    "## Train a SVM using cross-validation and assess performance(F1-score)"
   ]
  },
  {
   "cell_type": "code",
   "execution_count": 16,
   "metadata": {
    "collapsed": false,
    "scrolled": false
   },
   "outputs": [
    {
     "name": "stdout",
     "output_type": "stream",
     "text": [
      "Time passed:  8.4 sec\n"
     ]
    },
    {
     "name": "stderr",
     "output_type": "stream",
     "text": [
      "[Parallel(n_jobs=1)]: Done   2 out of   2 | elapsed:    8.4s finished\n"
     ]
    }
   ],
   "source": [
    "from sklearn import svm, datasets\n",
    "from sklearn.cross_validation import train_test_split\n",
    "from sklearn.preprocessing import label_binarize\n",
    "from sklearn.multiclass import OneVsRestClassifier\n",
    "from sklearn.preprocessing import MultiLabelBinarizer\n",
    "import xgboost as xgb\n",
    "from sklearn import linear_model\n",
    "from sklearn import neighbors\n",
    "from sklearn import naive_bayes\n",
    "from sklearn.ensemble import ExtraTreesClassifier \n",
    "from sklearn.ensemble import RandomForestClassifier\n",
    "from sklearn.ensemble import BaggingClassifier\n",
    "from sklearn import cross_validation\n",
    "from sklearn.metrics import f1_score\n",
    "\n",
    "import time\n",
    "t=time.time()\n",
    "\n",
    "mlb = MultiLabelBinarizer()\n",
    "y_ptrain= mlb.fit_transform(y_train)  #Convert list of labels to binary matrix\n",
    "\n",
    "# bgc = BaggingClassifier(base_estimator = linear_model.LogisticRegressionCV(),\n",
    "#                         n_estimators=5, max_samples = 0.2, bootstrap  = 0, \n",
    "#                          n_jobs=-1, verbose = 1)\n",
    "\n",
    "classifier = OneVsRestClassifier(linear_model.LinearRegression())\n",
    "#classifier.fit(X_ptrain, y_ptrain)\n",
    "#y_ppredict = classifier.predict(X_ptest)\n",
    "y_ppredict = cross_validation.cross_val_predict(classifier, X_train, y_ptrain, cv=2, verbose =1)\n",
    "\n",
    "print \"Time passed: \", \"{0:.1f}\".format(time.time()-t), \"sec\""
   ]
  },
  {
   "cell_type": "code",
   "execution_count": 17,
   "metadata": {
    "collapsed": false,
    "scrolled": false
   },
   "outputs": [
    {
     "name": "stdout",
     "output_type": "stream",
     "text": [
      "Samples of predicted labels (in binary matrix):\n",
      "[[0 1 1 1 1 1 1 1 0]\n",
      " [0 1 1 0 0 1 1 1 0]\n",
      " [0 1 1 0 1 1 1 1 0]]\n",
      "\n",
      "Samples of predicted labels:\n",
      "[(1, 2, 3, 4, 5, 6, 7), (1, 2, 5, 6, 7), (1, 2, 4, 5, 6, 7)]\n"
     ]
    }
   ],
   "source": [
    "print \"Samples of predicted labels (in binary matrix):\\n\", y_ppredict[0:3]\n",
    "print \"\\nSamples of predicted labels:\\n\", mlb.inverse_transform(y_ppredict[0:3])"
   ]
  },
  {
   "cell_type": "code",
   "execution_count": 18,
   "metadata": {
    "collapsed": false
   },
   "outputs": [
    {
     "data": {
      "text/html": [
       "<div>\n",
       "<table border=\"1\" class=\"dataframe\">\n",
       "  <thead>\n",
       "    <tr style=\"text-align: right;\">\n",
       "      <th></th>\n",
       "      <th>attribuite 0</th>\n",
       "      <th>attribuite 1</th>\n",
       "      <th>attribuite 2</th>\n",
       "      <th>attribuite 3</th>\n",
       "      <th>attribuite 4</th>\n",
       "      <th>attribuite 5</th>\n",
       "      <th>attribuite 6</th>\n",
       "      <th>attribuite 7</th>\n",
       "      <th>attribuite 8</th>\n",
       "      <th>num_biz</th>\n",
       "    </tr>\n",
       "  </thead>\n",
       "  <tbody>\n",
       "    <tr>\n",
       "      <th>biz count</th>\n",
       "      <td>631</td>\n",
       "      <td>999</td>\n",
       "      <td>1062</td>\n",
       "      <td>1108</td>\n",
       "      <td>625</td>\n",
       "      <td>1213</td>\n",
       "      <td>1385</td>\n",
       "      <td>644</td>\n",
       "      <td>1152</td>\n",
       "      <td>1996</td>\n",
       "    </tr>\n",
       "    <tr>\n",
       "      <th>biz ratio</th>\n",
       "      <td>32%</td>\n",
       "      <td>50%</td>\n",
       "      <td>53%</td>\n",
       "      <td>56%</td>\n",
       "      <td>31%</td>\n",
       "      <td>61%</td>\n",
       "      <td>69%</td>\n",
       "      <td>32%</td>\n",
       "      <td>58%</td>\n",
       "      <td>100%</td>\n",
       "    </tr>\n",
       "  </tbody>\n",
       "</table>\n",
       "</div>"
      ],
      "text/plain": [
       "          attribuite 0 attribuite 1 attribuite 2 attribuite 3 attribuite 4  \\\n",
       "biz count          631          999         1062         1108          625   \n",
       "biz ratio          32%          50%          53%          56%          31%   \n",
       "\n",
       "          attribuite 5 attribuite 6 attribuite 7 attribuite 8 num_biz  \n",
       "biz count         1213         1385          644         1152    1996  \n",
       "biz ratio          61%          69%          32%          58%    100%  "
      ]
     },
     "execution_count": 18,
     "metadata": {},
     "output_type": "execute_result"
    }
   ],
   "source": [
    "statistics = pd.DataFrame(columns=[ \"attribuite \"+str(i) for i in range(9)]+['num_biz'], index = [\"biz count\", \"biz ratio\"])\n",
    "statistics.loc[\"biz count\"] = np.append(np.sum(y_ppredict, axis=0), len(y_ppredict))\n",
    "pd.options.display.float_format = '{:.0f}%'.format\n",
    "statistics.loc[\"biz ratio\"] = statistics.loc[\"biz count\"]*100/len(y_ppredict) \n",
    "statistics"
   ]
  },
  {
   "cell_type": "code",
   "execution_count": 19,
   "metadata": {
    "collapsed": false,
    "scrolled": true
   },
   "outputs": [
    {
     "name": "stdout",
     "output_type": "stream",
     "text": [
      "F1 score:  0.762787504291\n",
      "Individual Class F1 score:  [ 0.59447005  0.76606426  0.81130268  0.60729512  0.67918089  0.83021933\n",
      "  0.89763206  0.66118421  0.81506276]\n"
     ]
    }
   ],
   "source": [
    "from sklearn.metrics import f1_score\n",
    "\n",
    "print \"F1 score: \", f1_score(y_ptrain, y_ppredict, average='micro') \n",
    "print \"Individual Class F1 score: \", f1_score(y_ptrain, y_ppredict, average=None)"
   ]
  },
  {
   "cell_type": "markdown",
   "metadata": {},
   "source": [
    "## Re-Train a SVM using all training data, and make predictions on test set"
   ]
  },
  {
   "cell_type": "code",
   "execution_count": 3,
   "metadata": {
    "collapsed": false,
    "scrolled": true
   },
   "outputs": [
    {
     "name": "stdout",
     "output_type": "stream",
     "text": [
      "(1996,)\n"
     ]
    },
    {
     "name": "stderr",
     "output_type": "stream",
     "text": [
      "/home/long/anaconda2/lib/python2.7/site-packages/sklearn/cross_validation.py:516: Warning: The least populated class in y has only 1 members, which is too few. The minimum number of labels for any class cannot be less than n_folds=5.\n",
      "  % (min_labels, self.n_folds)), Warning)\n"
     ]
    },
    {
     "name": "stdout",
     "output_type": "stream",
     "text": [
      "(1500, 4106)\n",
      "(1500, 9)\n",
      "[[0 1 1 1 0 1 1 1 1]\n",
      " [0 1 1 1 0 1 1 0 0]]\n",
      "(1571, 4106)\n",
      "(1571, 9)\n",
      "[[0 1 1 1 0 1 1 1 0]\n",
      " [0 1 1 1 0 1 1 0 0]]\n",
      "(1617, 4106)\n",
      "(1617, 9)\n",
      "[[0 1 1 1 1 1 1 1 1]\n",
      " [0 1 1 1 0 1 1 0 0]]\n",
      "(1640, 4106)\n",
      "(1640, 9)\n",
      "[[0 1 1 1 0 1 1 1 1]\n",
      " [0 1 0 1 0 1 1 0 0]]\n",
      "(1656, 4106)\n",
      "(1656, 9)\n",
      "[[0 1 1 1 0 1 1 1 1]\n",
      " [0 1 1 1 0 1 1 0 0]]\n",
      "Time passed:  2032.3 sec\n"
     ]
    }
   ],
   "source": [
    "## Uncomment if skip previous train\n",
    "from sklearn import svm\n",
    "from sklearn.preprocessing import label_binarize\n",
    "from sklearn.multiclass import OneVsRestClassifier\n",
    "from sklearn.preprocessing import MultiLabelBinarizer\n",
    "import time\n",
    "import xgboost as xgb\n",
    "from sklearn.svm import LinearSVC\n",
    "from sklearn import linear_model\n",
    "#from sklearn.ensemble import RandomForestClassifier\n",
    "from sklearn.ensemble import BaggingClassifier\n",
    "\n",
    "t = time.time()\n",
    "\n",
    "mlb = MultiLabelBinarizer()\n",
    "y_train= mlb.fit_transform(y_train)  #Convert list of labels to binary matrix\n",
    "\n",
    "from sklearn.cross_validation import StratifiedKFold\n",
    "print train_df['label'].shape\n",
    "skf = StratifiedKFold(train_df['label'], n_folds=5, random_state = 0)\n",
    "y_predict = np.zeros((X_test.shape[0],9))\n",
    "for train_index, test_index in skf:\n",
    "    X_train_i = X_train[train_index]\n",
    "    y_train_i = y_train[train_index]\n",
    "    classifier = OneVsRestClassifier(xgb.XGBClassifier(max_depth=4, n_estimators=1000))\n",
    "    classifier.fit(X_train_i, y_train_i)\n",
    "    y_predict_i = classifier.predict(X_test)\n",
    "    y_predict = y_predict + y_predict_i\n",
    "    print X_train_i.shape\n",
    "    print y_train_i.shape\n",
    "    print y_predict_i[1:3]\n",
    "\n",
    "y_predict = y_predict/5\n",
    "#y_predict = classifier.predict_proba(X_test)\n",
    "np.savetxt(data_root+\"../submissions/ensemble/y_predict_skf_XGBd4n1000_submission_CNfc7_AGfc8.csv\", y_predict, delimiter=\",\")\n",
    "y_predict = y_predict > 0.5\n",
    "\n",
    "#print list(mlb.classes_)\n",
    "y_predict_label = mlb.inverse_transform(y_predict) #Convert binary matrix back to labels\n",
    "\n",
    "print \"Time passed: \", \"{0:.1f}\".format(time.time()-t), \"sec\""
   ]
  },
  {
   "cell_type": "code",
   "execution_count": 7,
   "metadata": {
    "collapsed": false
   },
   "outputs": [
    {
     "name": "stdout",
     "output_type": "stream",
     "text": [
      "[(1, 2, 3, 5, 6, 7, 8), (1, 2, 3, 5, 6)]\n"
     ]
    }
   ],
   "source": [
    "print y_predict_label[1:3]"
   ]
  },
  {
   "cell_type": "code",
   "execution_count": 8,
   "metadata": {
    "collapsed": false
   },
   "outputs": [],
   "source": [
    "test_data_frame  = pd.read_csv(data_root+\"test_biz_fc7features.csv\")\n",
    "df = pd.DataFrame(columns=['business_id','labels'])\n",
    "\n",
    "for i in range(len(test_data_frame)):\n",
    "    biz = test_data_frame.loc[i]['business']\n",
    "    label = y_predict_label[i]\n",
    "    label = str(label)[1:-1].replace(\",\", \" \")\n",
    "    df.loc[i] = [str(biz), label]\n",
    "    \n",
    "    \n",
    "with open(data_root+\"../submissions/skf_XGBd4n1000_submission_CNfc7_AGfc8.csv\",'w') as f:\n",
    "    df.to_csv(f, index=False)    \n",
    "    "
   ]
  },
  {
   "cell_type": "code",
   "execution_count": 9,
   "metadata": {
    "collapsed": false
   },
   "outputs": [
    {
     "data": {
      "text/html": [
       "<div>\n",
       "<table border=\"1\" class=\"dataframe\">\n",
       "  <thead>\n",
       "    <tr style=\"text-align: right;\">\n",
       "      <th></th>\n",
       "      <th>attribuite 0</th>\n",
       "      <th>attribuite 1</th>\n",
       "      <th>attribuite 2</th>\n",
       "      <th>attribuite 3</th>\n",
       "      <th>attribuite 4</th>\n",
       "      <th>attribuite 5</th>\n",
       "      <th>attribuite 6</th>\n",
       "      <th>attribuite 7</th>\n",
       "      <th>attribuite 8</th>\n",
       "      <th>num_biz</th>\n",
       "    </tr>\n",
       "  </thead>\n",
       "  <tbody>\n",
       "    <tr>\n",
       "      <th>biz count</th>\n",
       "      <td>729</td>\n",
       "      <td>8125</td>\n",
       "      <td>8541</td>\n",
       "      <td>6848</td>\n",
       "      <td>1897</td>\n",
       "      <td>9066</td>\n",
       "      <td>9354</td>\n",
       "      <td>2186</td>\n",
       "      <td>5529</td>\n",
       "      <td>10000</td>\n",
       "    </tr>\n",
       "    <tr>\n",
       "      <th>biz ratio</th>\n",
       "      <td>7%</td>\n",
       "      <td>81%</td>\n",
       "      <td>85%</td>\n",
       "      <td>68%</td>\n",
       "      <td>19%</td>\n",
       "      <td>91%</td>\n",
       "      <td>94%</td>\n",
       "      <td>22%</td>\n",
       "      <td>55%</td>\n",
       "      <td>100%</td>\n",
       "    </tr>\n",
       "  </tbody>\n",
       "</table>\n",
       "</div>"
      ],
      "text/plain": [
       "          attribuite 0 attribuite 1 attribuite 2 attribuite 3 attribuite 4  \\\n",
       "biz count          729         8125         8541         6848         1897   \n",
       "biz ratio           7%          81%          85%          68%          19%   \n",
       "\n",
       "          attribuite 5 attribuite 6 attribuite 7 attribuite 8 num_biz  \n",
       "biz count         9066         9354         2186         5529   10000  \n",
       "biz ratio          91%          94%          22%          55%    100%  "
      ]
     },
     "execution_count": 9,
     "metadata": {},
     "output_type": "execute_result"
    }
   ],
   "source": [
    "statistics = pd.DataFrame(columns=[ \"attribuite \"+str(i) for i in range(9)]+['num_biz'], index = [\"biz count\", \"biz ratio\"])\n",
    "statistics.loc[\"biz count\"] = np.append(np.sum(y_predict, axis=0), len(y_predict))\n",
    "pd.options.display.float_format = '{:.0f}%'.format\n",
    "statistics.loc[\"biz ratio\"] = statistics.loc[\"biz count\"]*100/len(y_predict) \n",
    "statistics"
   ]
  },
  {
   "cell_type": "markdown",
   "metadata": {},
   "source": [
    "## Ensemble of previous models"
   ]
  },
  {
   "cell_type": "code",
   "execution_count": 28,
   "metadata": {
    "collapsed": false
   },
   "outputs": [
    {
     "name": "stdout",
     "output_type": "stream",
     "text": [
      "Samples of ensemble predict labels (in binary matrix):\n",
      "[[False  True  True  True False  True  True False False]\n",
      " [False  True  True  True False  True  True False  True]\n",
      " [False  True False  True False  True  True False  True]]\n",
      "Samples of y_predict_label (in binary matrix):\n",
      "[(1, 2, 3, 5, 6), (1, 2, 3, 5, 6, 8), (1, 3, 5, 6, 8)]\n"
     ]
    }
   ],
   "source": [
    "import numpy as np\n",
    "import pandas as pd \n",
    "from sklearn.preprocessing import MultiLabelBinarizer\n",
    "\n",
    "#data_root = '/media/sf_Yelp/input/'\n",
    "data_root = '/home/long/Desktop/Yelp/input/'\n",
    "mlb = MultiLabelBinarizer()\n",
    "y_train= mlb.fit_transform(y_train)  #Convert list of labels to binary matrix\n",
    "\n",
    "\n",
    "y_predict_BR  = pd.read_csv(data_root+\"../submissions/ensemble/y_predict_0.828991940194_BayesianRidge__submission_fc7_4096.csv\",header=None)\n",
    "y_predict_BR2  = pd.read_csv(data_root+\"../submissions/ensemble/y_predict_skf_BR_submission_CNfc7_AGfc8.csv\",header=None)\n",
    "y_predict_LoR  = pd.read_csv(data_root+\"../submissions/ensemble/y_predict_0.824536875218_LogisticRegressionCV_submission_fc7_4096.csv\",header=None)\n",
    "y_predict_XGB  = pd.read_csv(data_root+\"../submissions/ensemble/y_predict_0.823321762664_XGB_d4_n500_submission_fc7_4096.csv\",header=None)\n",
    "y_predict_XGB2  = pd.read_csv(data_root+\"../submissions/ensemble/y_predict_skf_XGBd4n1000_submission_CNfc7_AGfc8.csv\",header=None)\n",
    "y_predict_RF  = pd.read_csv(data_root+\"../submissions/ensemble/y_predict_0.807488855869_RF_d4_n1000_submission_fc7_4096.csv\",header=None)\n",
    "y_predict_RCcv  = pd.read_csv(data_root+\"../submissions/ensemble/y_predict_0.825110002933_RCcv_norm_submission_fc7_4096.csv\",header=None)\n",
    "y_predict_RCcv2  = pd.read_csv(data_root+\"../submissions/ensemble/y_predict_skf_RCcv_norm_submission_CNfc7_AGfc8.csv\",header=None)\n",
    "y_predict_RC  = pd.read_csv(data_root+\"../submissions/ensemble/y_predict_0.820068600663_RC_norm_submission_fc7_4096.csv\",header=None)\n",
    "y_predict_RC2  = pd.read_csv(data_root+\"../submissions/ensemble/y_predict_skf_RC_submission_fc7_4096.csv\",header=None)\n",
    "y_predict_PAC  = pd.read_csv(data_root+\"../submissions/ensemble/y_predict_0.812068670507_PAC_submission_fc7_4096.csv\",header=None)\n",
    "y_predict_PAC2  = pd.read_csv(data_root+\"../submissions/ensemble/y_predict_skf_PAC_n50_submission_fc7_4096.csv\",header=None)\n",
    "\n",
    "y_predict_Per  = pd.read_csv(data_root+\"../submissions/ensemble/y_predict_skf_Perceptron_submission_fc7_4096.csv\",header=None)\n",
    "y_predict_LSVC  = pd.read_csv(data_root+\"../submissions/ensemble/y_predict_skf_LinearSVC_submission_fc7_4096.csv\",header=None)\n",
    "y_predict_SGD  = pd.read_csv(data_root+\"../submissions/ensemble/y_predict_skf_SGD_submission_fc7_4096.csv\",header=None)\n",
    "\n",
    "#y_predict_LR  = pd.read_csv(data_root+\"../submissions/ensemble/y_predict_0.762498569958_LR_submission_fc7_4096.csv\",header=None)\n",
    "\n",
    "\n",
    "ensemble_predict = (y_predict_BR + y_predict_BR2 + y_predict_LoR + y_predict_XGB + y_predict_XGB2 + \n",
    "                    y_predict_RF+ y_predict_RCcv+  y_predict_RCcv2 + y_predict_RC+ y_predict_RC2+\n",
    "                    y_predict_PAC + y_predict_PAC2 + y_predict_Per + y_predict_LSVC + y_predict_SGD)/11\n",
    "ensemble_predict = ensemble_predict >0.5\n",
    "ensemble_predict = pd.DataFrame.as_matrix(ensemble_predict)\n",
    "print \"Samples of ensemble predict labels (in binary matrix):\\n\", ensemble_predict[0:3]\n",
    "#print list(mlb.classes_)\n",
    "y_predict_label = mlb.inverse_transform(ensemble_predict) #Convert binary matrix back to labels\n",
    "print \"Samples of y_predict_label (in binary matrix):\\n\", y_predict_label[0:3]\n",
    "\n",
    "\n",
    "test_data_frame  = pd.read_csv(data_root+\"test_biz_fc7features.csv\")\n",
    "df = pd.DataFrame(columns=['business_id','labels'])\n",
    "\n",
    "for i in range(len(test_data_frame)):\n",
    "    biz = test_data_frame.loc[i]['business']\n",
    "    label = y_predict_label[i]\n",
    "    label = str(label)[1:-1].replace(\",\", \" \")\n",
    "    df.loc[i] = [str(biz), label]\n",
    "\n",
    "with open(data_root+\"../submissions/ensemble_15models_scaled_correct_age_gender.csv\",'w') as f:\n",
    "    df.to_csv(f, index=False)  \n",
    "    \n",
    "    "
   ]
  },
  {
   "cell_type": "code",
   "execution_count": null,
   "metadata": {
    "collapsed": true
   },
   "outputs": [],
   "source": []
  }
 ],
 "metadata": {
  "kernelspec": {
   "display_name": "Python 2",
   "language": "python",
   "name": "python2"
  },
  "language_info": {
   "codemirror_mode": {
    "name": "ipython",
    "version": 2
   },
   "file_extension": ".py",
   "mimetype": "text/x-python",
   "name": "python",
   "nbconvert_exporter": "python",
   "pygments_lexer": "ipython2",
   "version": "2.7.11"
  }
 },
 "nbformat": 4,
 "nbformat_minor": 0
}
