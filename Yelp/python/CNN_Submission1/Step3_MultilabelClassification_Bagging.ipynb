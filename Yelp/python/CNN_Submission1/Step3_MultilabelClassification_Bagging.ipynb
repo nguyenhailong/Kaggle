{
 "cells": [
  {
   "cell_type": "markdown",
   "metadata": {},
   "source": [
    "# PART3: Multilabel-Classification using scikit-learn Linear models"
   ]
  },
  {
   "cell_type": "markdown",
   "metadata": {},
   "source": [
    "## Load Data"
   ]
  },
  {
   "cell_type": "code",
   "execution_count": 22,
   "metadata": {
    "collapsed": false
   },
   "outputs": [],
   "source": [
    "import numpy as np\n",
    "import pandas as pd \n",
    "\n",
    "#data_root = '/media/sf_Yelp/input/'\n",
    "data_root = '/home/long/Desktop/Yelp/input/'\n",
    "\n",
    "train_photos = pd.read_csv(data_root+'train_photo_to_biz_ids.csv')\n",
    "train_photo_to_biz = pd.read_csv(data_root+'train_photo_to_biz_ids.csv', index_col='photo_id')\n",
    "\n",
    "train_df = pd.read_csv(data_root+\"train_biz_fc7features.csv\")\n",
    "test_df  = pd.read_csv(data_root+\"test_biz_fc7features.csv\")\n",
    "\n",
    "y_train = train_df['label'].values\n",
    "X_train = train_df['feature vector'].values\n",
    "X_test = test_df['feature vector'].values\n",
    "\n",
    "def convert_label_to_array(str_label):\n",
    "    str_label = str_label[1:-1]\n",
    "    str_label = str_label.split(',')\n",
    "    return [int(x) for x in str_label if len(x)>0]\n",
    "\n",
    "def convert_feature_to_vector(str_feature):\n",
    "    str_feature = str_feature[1:-1]\n",
    "    str_feature = str_feature.split(',')\n",
    "    return [float(x) for x in str_feature]\n",
    "\n",
    "y_train = np.array([convert_label_to_array(y) for y in train_df['label']])\n",
    "X_train = np.array([convert_feature_to_vector(x) for x in train_df['feature vector']])\n",
    "X_test = np.array([convert_feature_to_vector(x) for x in test_df['feature vector']])\n"
   ]
  },
  {
   "cell_type": "code",
   "execution_count": 23,
   "metadata": {
    "collapsed": false,
    "scrolled": true
   },
   "outputs": [
    {
     "name": "stdout",
     "output_type": "stream",
     "text": [
      "X_train:  (1996, 4096)\n",
      "y_train:  (1996,)\n",
      "X_test:  (10000, 4096)\n",
      "train_df:\n",
      "   business                  label  \\\n",
      "0     1000%  (1, 2, 3, 4, 5, 6, 7)   \n",
      "1     1001%           (0, 1, 6, 8)   \n",
      "2      100%     (1, 2, 4, 5, 6, 7)   \n",
      "3     1006%        (1, 2, 4, 5, 6)   \n",
      "4     1010%              (0, 6, 8)   \n",
      "\n",
      "                                      feature vector  \n",
      "0  [0.20032024, 0.44084537, 0.23249489, 0.3600976...  \n",
      "1  [0.0013769998, 0.59398097, 0.55060995, 0.18394...  \n",
      "2  [0.11435749, 0.033177156, 0.12572332, 0.539482...  \n",
      "3  [0.075851507, 0.052600037, 0.059594199, 0.7067...  \n",
      "4  [0.39024171, 0.28424361, 0.0, 0.1655795, 0.460...  \n",
      "[[1, 2, 3, 4, 5, 6, 7] [0, 1, 6, 8] [1, 2, 4, 5, 6, 7]]\n"
     ]
    }
   ],
   "source": [
    "print \"X_train: \", X_train.shape\n",
    "print \"y_train: \", y_train.shape\n",
    "print \"X_test: \", X_test.shape\n",
    "print \"train_df:\"\n",
    "print train_df[0:5]\n",
    "print y_train[0:3]"
   ]
  },
  {
   "cell_type": "markdown",
   "metadata": {},
   "source": [
    "## Train a SVM using cross-validation and assess performance(F1-score)"
   ]
  },
  {
   "cell_type": "code",
   "execution_count": 21,
   "metadata": {
    "collapsed": false,
    "scrolled": false
   },
   "outputs": [
    {
     "name": "stdout",
     "output_type": "stream",
     "text": [
      "Time passed:  265.2 sec\n"
     ]
    },
    {
     "name": "stderr",
     "output_type": "stream",
     "text": [
      "[Parallel(n_jobs=1)]: Done   2 out of   2 | elapsed:  4.4min finished\n"
     ]
    }
   ],
   "source": [
    "from sklearn import svm, datasets\n",
    "from sklearn.cross_validation import train_test_split\n",
    "from sklearn.preprocessing import label_binarize\n",
    "from sklearn.multiclass import OneVsRestClassifier\n",
    "from sklearn.preprocessing import MultiLabelBinarizer\n",
    "import xgboost as xgb\n",
    "from sklearn import linear_model\n",
    "from sklearn import neighbors\n",
    "from sklearn import naive_bayes\n",
    "from sklearn.ensemble import ExtraTreesClassifier \n",
    "from sklearn.ensemble import RandomForestClassifier\n",
    "from sklearn.ensemble import BaggingClassifier\n",
    "from sklearn import cross_validation\n",
    "from sklearn.metrics import f1_score\n",
    "\n",
    "import time\n",
    "t=time.time()\n",
    "\n",
    "mlb = MultiLabelBinarizer()\n",
    "y_ptrain= mlb.fit_transform(y_train)  #Convert list of labels to binary matrix\n",
    "\n",
    "# bgc = BaggingClassifier(base_estimator = linear_model.LogisticRegressionCV(),\n",
    "#                         n_estimators=5, max_samples = 0.2, bootstrap  = 0, \n",
    "#                          n_jobs=-1, verbose = 1)\n",
    "\n",
    "classifier = OneVsRestClassifier(linear_model.LogisticRegressionCV( random_state= 0))\n",
    "#classifier.fit(X_ptrain, y_ptrain)\n",
    "#y_ppredict = classifier.predict(X_ptest)\n",
    "y_ppredict = cross_validation.cross_val_predict(classifier, X_train, y_ptrain, cv=2, verbose =1)\n",
    "\n",
    "print \"Time passed: \", \"{0:.1f}\".format(time.time()-t), \"sec\""
   ]
  },
  {
   "cell_type": "code",
   "execution_count": 22,
   "metadata": {
    "collapsed": false,
    "scrolled": false
   },
   "outputs": [
    {
     "name": "stdout",
     "output_type": "stream",
     "text": [
      "Samples of predicted labels (in binary matrix):\n",
      "[[0 1 1 1 1 1 1 1 0]\n",
      " [1 0 0 0 0 0 0 0 1]\n",
      " [0 1 1 0 1 1 1 1 0]]\n",
      "\n",
      "Samples of predicted labels:\n",
      "[(1, 2, 3, 4, 5, 6, 7), (0, 8), (1, 2, 4, 5, 6, 7)]\n"
     ]
    }
   ],
   "source": [
    "print \"Samples of predicted labels (in binary matrix):\\n\", y_ppredict[0:3]\n",
    "print \"\\nSamples of predicted labels:\\n\", mlb.inverse_transform(y_ppredict[0:3])"
   ]
  },
  {
   "cell_type": "code",
   "execution_count": 23,
   "metadata": {
    "collapsed": false
   },
   "outputs": [
    {
     "data": {
      "text/html": [
       "<div>\n",
       "<table border=\"1\" class=\"dataframe\">\n",
       "  <thead>\n",
       "    <tr style=\"text-align: right;\">\n",
       "      <th></th>\n",
       "      <th>attribuite 0</th>\n",
       "      <th>attribuite 1</th>\n",
       "      <th>attribuite 2</th>\n",
       "      <th>attribuite 3</th>\n",
       "      <th>attribuite 4</th>\n",
       "      <th>attribuite 5</th>\n",
       "      <th>attribuite 6</th>\n",
       "      <th>attribuite 7</th>\n",
       "      <th>attribuite 8</th>\n",
       "      <th>num_biz</th>\n",
       "    </tr>\n",
       "  </thead>\n",
       "  <tbody>\n",
       "    <tr>\n",
       "      <th>biz count</th>\n",
       "      <td>565</td>\n",
       "      <td>972</td>\n",
       "      <td>999</td>\n",
       "      <td>1035</td>\n",
       "      <td>505</td>\n",
       "      <td>1239</td>\n",
       "      <td>1379</td>\n",
       "      <td>569</td>\n",
       "      <td>1244</td>\n",
       "      <td>1996</td>\n",
       "    </tr>\n",
       "    <tr>\n",
       "      <th>biz ratio</th>\n",
       "      <td>28%</td>\n",
       "      <td>49%</td>\n",
       "      <td>50%</td>\n",
       "      <td>52%</td>\n",
       "      <td>25%</td>\n",
       "      <td>62%</td>\n",
       "      <td>69%</td>\n",
       "      <td>29%</td>\n",
       "      <td>62%</td>\n",
       "      <td>100%</td>\n",
       "    </tr>\n",
       "  </tbody>\n",
       "</table>\n",
       "</div>"
      ],
      "text/plain": [
       "          attribuite 0 attribuite 1 attribuite 2 attribuite 3 attribuite 4  \\\n",
       "biz count          565          972          999         1035          505   \n",
       "biz ratio          28%          49%          50%          52%          25%   \n",
       "\n",
       "          attribuite 5 attribuite 6 attribuite 7 attribuite 8 num_biz  \n",
       "biz count         1239         1379          569         1244    1996  \n",
       "biz ratio          62%          69%          29%          62%    100%  "
      ]
     },
     "execution_count": 23,
     "metadata": {},
     "output_type": "execute_result"
    }
   ],
   "source": [
    "statistics = pd.DataFrame(columns=[ \"attribuite \"+str(i) for i in range(9)]+['num_biz'], index = [\"biz count\", \"biz ratio\"])\n",
    "statistics.loc[\"biz count\"] = np.append(np.sum(y_ppredict, axis=0), len(y_ppredict))\n",
    "pd.options.display.float_format = '{:.0f}%'.format\n",
    "statistics.loc[\"biz ratio\"] = statistics.loc[\"biz count\"]*100/len(y_ppredict) \n",
    "statistics"
   ]
  },
  {
   "cell_type": "code",
   "execution_count": 24,
   "metadata": {
    "collapsed": false,
    "scrolled": true
   },
   "outputs": [
    {
     "name": "stdout",
     "output_type": "stream",
     "text": [
      "F1 score:  0.824536875218\n",
      "Individual Class F1 score:  [ 0.66990291  0.8264631   0.87506173  0.64867517  0.78136882  0.88263666\n",
      "  0.93026652  0.73093777  0.88960516]\n"
     ]
    }
   ],
   "source": [
    "from sklearn.metrics import f1_score\n",
    "\n",
    "print \"F1 score: \", f1_score(y_ptrain, y_ppredict, average='micro') \n",
    "print \"Individual Class F1 score: \", f1_score(y_ptrain, y_ppredict, average=None)"
   ]
  },
  {
   "cell_type": "markdown",
   "metadata": {},
   "source": [
    "## Re-Train a SVM using all training data, and make predictions on test set"
   ]
  },
  {
   "cell_type": "code",
   "execution_count": 24,
   "metadata": {
    "collapsed": false,
    "scrolled": true
   },
   "outputs": [
    {
     "name": "stdout",
     "output_type": "stream",
     "text": [
      "(1996,)\n",
      "(1500, 4096)\n",
      "(1500, 9)\n",
      "[[1 0 0 0 0 1 1 0 0]\n",
      " [0 0 0 1 0 0 1 1 1]]\n",
      "(1571, 4096)\n",
      "(1571, 9)\n",
      "[[0 1 1 0 0 1 0 1 0]\n",
      " [0 1 1 0 0 0 0 0 0]]\n",
      "(1617, 4096)\n",
      "(1617, 9)\n",
      "[[1 1 0 1 1 0 1 0 0]\n",
      " [0 0 1 1 1 0 1 0 1]]\n",
      "(1640, 4096)\n",
      "(1640, 9)\n",
      "[[0 0 0 0 0 1 0 0 0]\n",
      " [0 0 1 0 1 1 1 0 0]]\n",
      "(1656, 4096)\n",
      "(1656, 9)\n",
      "[[0 1 1 0 0 1 0 0 0]\n",
      " [0 0 1 0 0 1 0 0 0]]\n",
      "Time passed:  1020.9 sec\n"
     ]
    }
   ],
   "source": [
    "## Uncomment if skip previous train\n",
    "from sklearn import svm\n",
    "from sklearn.preprocessing import label_binarize\n",
    "from sklearn.multiclass import OneVsRestClassifier\n",
    "from sklearn.preprocessing import MultiLabelBinarizer\n",
    "import time\n",
    "import xgboost as xgb\n",
    "from sklearn.svm import LinearSVC\n",
    "from sklearn import linear_model\n",
    "#from sklearn.ensemble import RandomForestClassifier\n",
    "from sklearn.ensemble import BaggingClassifier\n",
    "\n",
    "t = time.time()\n",
    "\n",
    "mlb = MultiLabelBinarizer()\n",
    "y_train= mlb.fit_transform(y_train)  #Convert list of labels to binary matrix\n",
    "\n",
    "from sklearn.cross_validation import StratifiedKFold\n",
    "print train_df['label'].shape\n",
    "skf = StratifiedKFold(train_df['label'], n_folds=5, random_state = 0)\n",
    "y_predict = np.zeros((X_test.shape[0],9))\n",
    "for train_index, test_index in skf:\n",
    "    X_train_i = X_train[train_index]\n",
    "    y_train_i = y_train[train_index]\n",
    "    classifier = OneVsRestClassifier(linear_model.SGDRegressor(alpha=.0001, n_iter=500,penalty=\"elasticnet\"))\n",
    "    classifier.fit(X_train_i, y_train_i)\n",
    "    y_predict_i = classifier.predict(X_test)\n",
    "    y_predict = y_predict + y_predict_i\n",
    "    print X_train_i.shape\n",
    "    print y_train_i.shape\n",
    "    print y_predict_i[1:3]\n",
    "\n",
    "y_predict = y_predict/5\n",
    "#y_predict = classifier.predict_proba(X_test)\n",
    "np.savetxt(data_root+\"../submissions/ensemble/y_predict_skf_SGD_submission_fc7_4096.csv\", y_predict, delimiter=\",\")\n",
    "y_predict = y_predict > 0.5\n",
    "\n",
    "#print list(mlb.classes_)\n",
    "y_predict_label = mlb.inverse_transform(y_predict) #Convert binary matrix back to labels\n",
    "\n",
    "print \"Time passed: \", \"{0:.1f}\".format(time.time()-t), \"sec\""
   ]
  },
  {
   "cell_type": "code",
   "execution_count": 25,
   "metadata": {
    "collapsed": false
   },
   "outputs": [
    {
     "name": "stdout",
     "output_type": "stream",
     "text": [
      "[(1, 5), (2, 6)]\n"
     ]
    }
   ],
   "source": [
    "print y_predict_label[1:3]"
   ]
  },
  {
   "cell_type": "code",
   "execution_count": 26,
   "metadata": {
    "collapsed": false
   },
   "outputs": [],
   "source": [
    "test_data_frame  = pd.read_csv(data_root+\"test_biz_fc7features.csv\")\n",
    "df = pd.DataFrame(columns=['business_id','labels'])\n",
    "\n",
    "for i in range(len(test_data_frame)):\n",
    "    biz = test_data_frame.loc[i]['business']\n",
    "    label = y_predict_label[i]\n",
    "    label = str(label)[1:-1].replace(\",\", \" \")\n",
    "    df.loc[i] = [str(biz), label]\n",
    "    \n",
    "    \n",
    "with open(data_root+\"../submissions/skf_SGD_submission_fc7_4096.csv\",'w') as f:\n",
    "    df.to_csv(f, index=False)    \n",
    "    "
   ]
  },
  {
   "cell_type": "code",
   "execution_count": 27,
   "metadata": {
    "collapsed": false
   },
   "outputs": [
    {
     "data": {
      "text/html": [
       "<div>\n",
       "<table border=\"1\" class=\"dataframe\">\n",
       "  <thead>\n",
       "    <tr style=\"text-align: right;\">\n",
       "      <th></th>\n",
       "      <th>attribuite 0</th>\n",
       "      <th>attribuite 1</th>\n",
       "      <th>attribuite 2</th>\n",
       "      <th>attribuite 3</th>\n",
       "      <th>attribuite 4</th>\n",
       "      <th>attribuite 5</th>\n",
       "      <th>attribuite 6</th>\n",
       "      <th>attribuite 7</th>\n",
       "      <th>attribuite 8</th>\n",
       "      <th>num_biz</th>\n",
       "    </tr>\n",
       "  </thead>\n",
       "  <tbody>\n",
       "    <tr>\n",
       "      <th>biz count</th>\n",
       "      <td>3657</td>\n",
       "      <td>3843</td>\n",
       "      <td>4105</td>\n",
       "      <td>3248</td>\n",
       "      <td>3485</td>\n",
       "      <td>3673</td>\n",
       "      <td>4964</td>\n",
       "      <td>4470</td>\n",
       "      <td>4119</td>\n",
       "      <td>10000</td>\n",
       "    </tr>\n",
       "    <tr>\n",
       "      <th>biz ratio</th>\n",
       "      <td>37%</td>\n",
       "      <td>38%</td>\n",
       "      <td>41%</td>\n",
       "      <td>32%</td>\n",
       "      <td>35%</td>\n",
       "      <td>37%</td>\n",
       "      <td>50%</td>\n",
       "      <td>45%</td>\n",
       "      <td>41%</td>\n",
       "      <td>100%</td>\n",
       "    </tr>\n",
       "  </tbody>\n",
       "</table>\n",
       "</div>"
      ],
      "text/plain": [
       "          attribuite 0 attribuite 1 attribuite 2 attribuite 3 attribuite 4  \\\n",
       "biz count         3657         3843         4105         3248         3485   \n",
       "biz ratio          37%          38%          41%          32%          35%   \n",
       "\n",
       "          attribuite 5 attribuite 6 attribuite 7 attribuite 8 num_biz  \n",
       "biz count         3673         4964         4470         4119   10000  \n",
       "biz ratio          37%          50%          45%          41%    100%  "
      ]
     },
     "execution_count": 27,
     "metadata": {},
     "output_type": "execute_result"
    }
   ],
   "source": [
    "statistics = pd.DataFrame(columns=[ \"attribuite \"+str(i) for i in range(9)]+['num_biz'], index = [\"biz count\", \"biz ratio\"])\n",
    "statistics.loc[\"biz count\"] = np.append(np.sum(y_predict, axis=0), len(y_predict))\n",
    "pd.options.display.float_format = '{:.0f}%'.format\n",
    "statistics.loc[\"biz ratio\"] = statistics.loc[\"biz count\"]*100/len(y_predict) \n",
    "statistics"
   ]
  },
  {
   "cell_type": "markdown",
   "metadata": {},
   "source": [
    "## Ensemble of previous models"
   ]
  },
  {
   "cell_type": "code",
   "execution_count": 11,
   "metadata": {
    "collapsed": false
   },
   "outputs": [
    {
     "name": "stdout",
     "output_type": "stream",
     "text": [
      "Samples of ensemble predict labels (in binary matrix):\n",
      "[[False  True  True  True False  True  True False False]\n",
      " [False  True  True  True False  True  True False  True]\n",
      " [False False False  True False  True  True False  True]]\n",
      "Samples of y_predict_label (in binary matrix):\n",
      "[(1, 2, 3, 5, 6), (1, 2, 3, 5, 6, 8), (3, 5, 6, 8)]\n"
     ]
    }
   ],
   "source": [
    "import numpy as np\n",
    "import pandas as pd \n",
    "from sklearn.preprocessing import MultiLabelBinarizer\n",
    "\n",
    "#data_root = '/media/sf_Yelp/input/'\n",
    "data_root = '/home/long/Desktop/Yelp/input/'\n",
    "mlb = MultiLabelBinarizer()\n",
    "y_train= mlb.fit_transform(y_train)  #Convert list of labels to binary matrix\n",
    "\n",
    "\n",
    "y_predict_BR  = pd.read_csv(data_root+\"../submissions/ensemble/y_predict_skf_BR_submission_fc7_4096.csv\",header=None)\n",
    "y_predict_LoR  = pd.read_csv(data_root+\"../submissions/ensemble/y_predict_0.824536875218_LogisticRegressionCV_submission_fc7_4096.csv\",header=None)\n",
    "y_predict_XGB  = pd.read_csv(data_root+\"../submissions/ensemble/y_predict_skf_XGB_submission_fc7_4096.csv\",header=None)\n",
    "y_predict_RF  = pd.read_csv(data_root+\"../submissions/ensemble/y_predict_0.807488855869_RF_d4_n1000_submission_fc7_4096.csv\",header=None)\n",
    "y_predict_RCcv  = pd.read_csv(data_root+\"../submissions/ensemble/y_predict_skf_RCcv_norm_submission_fc7_4096.csv\",header=None)\n",
    "y_predict_RC  = pd.read_csv(data_root+\"../submissions/ensemble/y_predict_0.820068600663_RC_norm_submission_fc7_4096.csv\",header=None)\n",
    "y_predict_PAC  = pd.read_csv(data_root+\"../submissions/ensemble/y_predict_skf_PAC_submission_fc7_4096.csv\",header=None)\n",
    "#y_predict_Per  = pd.read_csv(data_root+\"../submissions/ensemble/y_predict_skf_Perceptron_submission_fc7_4096.csv\",header=None)\n",
    "\n",
    "#y_predict_LR  = pd.read_csv(data_root+\"../submissions/ensemble/y_predict_0.762498569958_LR_submission_fc7_4096.csv\",header=None)\n",
    "\n",
    "\n",
    "ensemble_predict = (y_predict_BR + y_predict_LoR + y_predict_XGB + y_predict_RF+ y_predict_RCcv+ \n",
    "                    y_predict_RC+ y_predict_PAC )/7\n",
    "ensemble_predict = ensemble_predict >0.5\n",
    "ensemble_predict = pd.DataFrame.as_matrix(ensemble_predict)\n",
    "print \"Samples of ensemble predict labels (in binary matrix):\\n\", ensemble_predict[0:3]\n",
    "#print list(mlb.classes_)\n",
    "y_predict_label = mlb.inverse_transform(ensemble_predict) #Convert binary matrix back to labels\n",
    "print \"Samples of y_predict_label (in binary matrix):\\n\", y_predict_label[0:3]\n",
    "\n",
    "\n",
    "test_data_frame  = pd.read_csv(data_root+\"test_biz_fc7features.csv\")\n",
    "df = pd.DataFrame(columns=['business_id','labels'])\n",
    "\n",
    "for i in range(len(test_data_frame)):\n",
    "    biz = test_data_frame.loc[i]['business']\n",
    "    label = y_predict_label[i]\n",
    "    label = str(label)[1:-1].replace(\",\", \" \")\n",
    "    df.loc[i] = [str(biz), label]\n",
    "\n",
    "with open(data_root+\"../submissions/ensemble8_7models_skf_submission_fc7_4096.csv\",'w') as f:\n",
    "    df.to_csv(f, index=False)  \n",
    "    \n",
    "    "
   ]
  },
  {
   "cell_type": "markdown",
   "metadata": {
    "collapsed": true
   },
   "source": [
    "## Bagging "
   ]
  },
  {
   "cell_type": "code",
   "execution_count": null,
   "metadata": {
    "collapsed": true
   },
   "outputs": [],
   "source": []
  }
 ],
 "metadata": {
  "kernelspec": {
   "display_name": "Python 2",
   "language": "python",
   "name": "python2"
  },
  "language_info": {
   "codemirror_mode": {
    "name": "ipython",
    "version": 2
   },
   "file_extension": ".py",
   "mimetype": "text/x-python",
   "name": "python",
   "nbconvert_exporter": "python",
   "pygments_lexer": "ipython2",
   "version": "2.7.11"
  }
 },
 "nbformat": 4,
 "nbformat_minor": 0
}
