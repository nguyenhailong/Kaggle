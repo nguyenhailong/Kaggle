{
 "cells": [
  {
   "cell_type": "markdown",
   "metadata": {},
   "source": [
    "# PART3: Multilabel-Classification using scikit-learn Linear models"
   ]
  },
  {
   "cell_type": "markdown",
   "metadata": {},
   "source": [
    "## Load Data"
   ]
  },
  {
   "cell_type": "code",
   "execution_count": 3,
   "metadata": {
    "collapsed": false
   },
   "outputs": [],
   "source": [
    "import numpy as np\n",
    "import pandas as pd \n",
    "\n",
    "data_root = '/media/sf_Yelp/input/'\n",
    "\n",
    "train_photos = pd.read_csv(data_root+'train_photo_to_biz_ids.csv')\n",
    "train_photo_to_biz = pd.read_csv(data_root+'train_photo_to_biz_ids.csv', index_col='photo_id')\n",
    "\n",
    "train_df = pd.read_csv(data_root+\"train_biz_fc7features.csv\")\n",
    "test_df  = pd.read_csv(data_root+\"test_biz_fc7features.csv\")\n",
    "\n",
    "y_train = train_df['label'].values\n",
    "X_train = train_df['feature vector'].values\n",
    "X_test = test_df['feature vector'].values\n",
    "\n",
    "def convert_label_to_array(str_label):\n",
    "    str_label = str_label[1:-1]\n",
    "    str_label = str_label.split(',')\n",
    "    return [int(x) for x in str_label if len(x)>0]\n",
    "\n",
    "def convert_feature_to_vector(str_feature):\n",
    "    str_feature = str_feature[1:-1]\n",
    "    str_feature = str_feature.split(',')\n",
    "    return [float(x) for x in str_feature]\n",
    "\n",
    "y_train = np.array([convert_label_to_array(y) for y in train_df['label']])\n",
    "X_train = np.array([convert_feature_to_vector(x) for x in train_df['feature vector']])\n",
    "X_test = np.array([convert_feature_to_vector(x) for x in test_df['feature vector']])\n"
   ]
  },
  {
   "cell_type": "code",
   "execution_count": 9,
   "metadata": {
    "collapsed": false,
    "scrolled": true
   },
   "outputs": [
    {
     "name": "stdout",
     "output_type": "stream",
     "text": [
      "X_train:  (1996, 4096)\n",
      "y_train:  (1996,)\n",
      "X_test:  (10000, 4096)\n",
      "train_df:\n"
     ]
    },
    {
     "data": {
      "text/html": [
       "<div>\n",
       "<table border=\"1\" class=\"dataframe\">\n",
       "  <thead>\n",
       "    <tr style=\"text-align: right;\">\n",
       "      <th></th>\n",
       "      <th>business</th>\n",
       "      <th>label</th>\n",
       "      <th>feature vector</th>\n",
       "    </tr>\n",
       "  </thead>\n",
       "  <tbody>\n",
       "    <tr>\n",
       "      <th>0</th>\n",
       "      <td>1000%</td>\n",
       "      <td>(1, 2, 3, 4, 5, 6, 7)</td>\n",
       "      <td>[0.20032024, 0.44084537, 0.23249489, 0.3600976...</td>\n",
       "    </tr>\n",
       "    <tr>\n",
       "      <th>1</th>\n",
       "      <td>1001%</td>\n",
       "      <td>(0, 1, 6, 8)</td>\n",
       "      <td>[0.0013769998, 0.59398097, 0.55060995, 0.18394...</td>\n",
       "    </tr>\n",
       "    <tr>\n",
       "      <th>2</th>\n",
       "      <td>100%</td>\n",
       "      <td>(1, 2, 4, 5, 6, 7)</td>\n",
       "      <td>[0.11435749, 0.033177156, 0.12572332, 0.539482...</td>\n",
       "    </tr>\n",
       "    <tr>\n",
       "      <th>3</th>\n",
       "      <td>1006%</td>\n",
       "      <td>(1, 2, 4, 5, 6)</td>\n",
       "      <td>[0.075851507, 0.052600037, 0.059594199, 0.7067...</td>\n",
       "    </tr>\n",
       "    <tr>\n",
       "      <th>4</th>\n",
       "      <td>1010%</td>\n",
       "      <td>(0, 6, 8)</td>\n",
       "      <td>[0.39024171, 0.28424361, 0.0, 0.1655795, 0.460...</td>\n",
       "    </tr>\n",
       "  </tbody>\n",
       "</table>\n",
       "</div>"
      ],
      "text/plain": [
       "   business                  label  \\\n",
       "0     1000%  (1, 2, 3, 4, 5, 6, 7)   \n",
       "1     1001%           (0, 1, 6, 8)   \n",
       "2      100%     (1, 2, 4, 5, 6, 7)   \n",
       "3     1006%        (1, 2, 4, 5, 6)   \n",
       "4     1010%              (0, 6, 8)   \n",
       "\n",
       "                                      feature vector  \n",
       "0  [0.20032024, 0.44084537, 0.23249489, 0.3600976...  \n",
       "1  [0.0013769998, 0.59398097, 0.55060995, 0.18394...  \n",
       "2  [0.11435749, 0.033177156, 0.12572332, 0.539482...  \n",
       "3  [0.075851507, 0.052600037, 0.059594199, 0.7067...  \n",
       "4  [0.39024171, 0.28424361, 0.0, 0.1655795, 0.460...  "
      ]
     },
     "execution_count": 9,
     "metadata": {},
     "output_type": "execute_result"
    }
   ],
   "source": [
    "print \"X_train: \", X_train.shape\n",
    "print \"y_train: \", y_train.shape\n",
    "print \"X_test: \", X_test.shape\n",
    "print \"train_df:\"\n",
    "train_df[0:5]"
   ]
  },
  {
   "cell_type": "markdown",
   "metadata": {},
   "source": [
    "## Train a SVM using cross-validation and assess performance(F1-score)"
   ]
  },
  {
   "cell_type": "code",
   "execution_count": 56,
   "metadata": {
    "collapsed": false,
    "scrolled": true
   },
   "outputs": [
    {
     "name": "stdout",
     "output_type": "stream",
     "text": [
      "Time passed:  42.2 sec\n"
     ]
    },
    {
     "name": "stderr",
     "output_type": "stream",
     "text": [
      "[Parallel(n_jobs=1)]: Done   2 out of   2 | elapsed:   42.1s finished\n"
     ]
    }
   ],
   "source": [
    "from sklearn import svm, datasets\n",
    "from sklearn.cross_validation import train_test_split\n",
    "from sklearn.preprocessing import label_binarize\n",
    "from sklearn.multiclass import OneVsRestClassifier\n",
    "from sklearn.preprocessing import MultiLabelBinarizer\n",
    "import xgboost as xgb\n",
    "from sklearn import linear_model\n",
    "from sklearn.ensemble import ExtraTreesClassifier \n",
    "from sklearn.ensemble import RandomForestClassifier\n",
    "from sklearn import cross_validation\n",
    "from sklearn.metrics import f1_score\n",
    "\n",
    "import time\n",
    "t=time.time()\n",
    "\n",
    "mlb = MultiLabelBinarizer()\n",
    "y_ptrain= mlb.fit_transform(y_train)  #Convert list of labels to binary matrix\n",
    "\n",
    "SEED = 0\n",
    "random_state = np.random.RandomState(SEED)\n",
    "#X_ptrain, X_ptest, y_ptrain, y_ptest = train_test_split(X_train, y_ptrain, test_size=.2,random_state=random_state)\n",
    "# rfc = RandomForestClassifier(n_estimators=1000, criterion='entropy', max_depth=4,\n",
    "#                                 min_samples_split=4, min_samples_leaf=3,\n",
    "#                                 max_features='auto', bootstrap=True,\n",
    "#                                 oob_score=True, n_jobs=-1,\n",
    "#                                 random_state=SEED, verbose=0)\n",
    "classifier = OneVsRestClassifier(linear_model.LinearRegression())\n",
    "#classifier.fit(X_ptrain, y_ptrain)\n",
    "#y_ppredict = classifier.predict(X_ptest)\n",
    "y_ppredict = cross_validation.cross_val_predict(classifier, X_train, y_ptrain, cv=2, verbose =1)\n",
    "\n",
    "print \"Time passed: \", \"{0:.1f}\".format(time.time()-t), \"sec\""
   ]
  },
  {
   "cell_type": "code",
   "execution_count": 57,
   "metadata": {
    "collapsed": false
   },
   "outputs": [
    {
     "name": "stdout",
     "output_type": "stream",
     "text": [
      "Samples of predicted labels (in binary matrix):\n",
      "[[0 1 1 1 1 1 1 1 0]\n",
      " [0 1 1 0 0 1 1 1 0]\n",
      " [0 1 1 0 1 1 1 1 0]]\n",
      "\n",
      "Samples of predicted labels:\n",
      "[(1, 2, 3, 4, 5, 6, 7), (1, 2, 5, 6, 7), (1, 2, 4, 5, 6, 7)]\n"
     ]
    }
   ],
   "source": [
    "print \"Samples of predicted labels (in binary matrix):\\n\", y_ppredict[0:3]\n",
    "print \"\\nSamples of predicted labels:\\n\", mlb.inverse_transform(y_ppredict[0:3])"
   ]
  },
  {
   "cell_type": "code",
   "execution_count": 58,
   "metadata": {
    "collapsed": false
   },
   "outputs": [
    {
     "data": {
      "text/html": [
       "<div>\n",
       "<table border=\"1\" class=\"dataframe\">\n",
       "  <thead>\n",
       "    <tr style=\"text-align: right;\">\n",
       "      <th></th>\n",
       "      <th>attribuite 0</th>\n",
       "      <th>attribuite 1</th>\n",
       "      <th>attribuite 2</th>\n",
       "      <th>attribuite 3</th>\n",
       "      <th>attribuite 4</th>\n",
       "      <th>attribuite 5</th>\n",
       "      <th>attribuite 6</th>\n",
       "      <th>attribuite 7</th>\n",
       "      <th>attribuite 8</th>\n",
       "      <th>num_biz</th>\n",
       "    </tr>\n",
       "  </thead>\n",
       "  <tbody>\n",
       "    <tr>\n",
       "      <th>biz count</th>\n",
       "      <td>622</td>\n",
       "      <td>1000</td>\n",
       "      <td>1059</td>\n",
       "      <td>1112</td>\n",
       "      <td>624</td>\n",
       "      <td>1218</td>\n",
       "      <td>1393</td>\n",
       "      <td>642</td>\n",
       "      <td>1153</td>\n",
       "      <td>1996</td>\n",
       "    </tr>\n",
       "    <tr>\n",
       "      <th>biz ratio</th>\n",
       "      <td>31%</td>\n",
       "      <td>50%</td>\n",
       "      <td>53%</td>\n",
       "      <td>56%</td>\n",
       "      <td>31%</td>\n",
       "      <td>61%</td>\n",
       "      <td>70%</td>\n",
       "      <td>32%</td>\n",
       "      <td>58%</td>\n",
       "      <td>100%</td>\n",
       "    </tr>\n",
       "  </tbody>\n",
       "</table>\n",
       "</div>"
      ],
      "text/plain": [
       "          attribuite 0 attribuite 1 attribuite 2 attribuite 3 attribuite 4  \\\n",
       "biz count          622         1000         1059         1112          624   \n",
       "biz ratio          31%          50%          53%          56%          31%   \n",
       "\n",
       "          attribuite 5 attribuite 6 attribuite 7 attribuite 8 num_biz  \n",
       "biz count         1218         1393          642         1153    1996  \n",
       "biz ratio          61%          70%          32%          58%    100%  "
      ]
     },
     "execution_count": 58,
     "metadata": {},
     "output_type": "execute_result"
    }
   ],
   "source": [
    "statistics = pd.DataFrame(columns=[ \"attribuite \"+str(i) for i in range(9)]+['num_biz'], index = [\"biz count\", \"biz ratio\"])\n",
    "statistics.loc[\"biz count\"] = np.append(np.sum(y_ppredict, axis=0), len(y_ppredict))\n",
    "pd.options.display.float_format = '{:.0f}%'.format\n",
    "statistics.loc[\"biz ratio\"] = statistics.loc[\"biz count\"]*100/len(y_ppredict) \n",
    "statistics"
   ]
  },
  {
   "cell_type": "code",
   "execution_count": 59,
   "metadata": {
    "collapsed": false,
    "scrolled": true
   },
   "outputs": [
    {
     "name": "stdout",
     "output_type": "stream",
     "text": [
      "F1 score:  0.762498569958\n",
      "Individual Class F1 score:  [ 0.58932715  0.7676869   0.80767386  0.60330969  0.68488471  0.83096879\n",
      "  0.89865601  0.66721582  0.81221246]\n"
     ]
    }
   ],
   "source": [
    "from sklearn.metrics import f1_score\n",
    "\n",
    "print \"F1 score: \", f1_score(y_ptrain, y_ppredict, average='micro') \n",
    "print \"Individual Class F1 score: \", f1_score(y_ptrain, y_ppredict, average=None)"
   ]
  },
  {
   "cell_type": "markdown",
   "metadata": {},
   "source": [
    "## Re-Train a SVM using all training data, and make predictions on test set"
   ]
  },
  {
   "cell_type": "code",
   "execution_count": 10,
   "metadata": {
    "collapsed": false,
    "scrolled": true
   },
   "outputs": [
    {
     "name": "stdout",
     "output_type": "stream",
     "text": [
      "Time passed:  9.8 sec\n"
     ]
    }
   ],
   "source": [
    "## Uncomment if skip previous train\n",
    "from sklearn import svm\n",
    "from sklearn.preprocessing import label_binarize\n",
    "from sklearn.multiclass import OneVsRestClassifier\n",
    "from sklearn.preprocessing import MultiLabelBinarizer\n",
    "import time\n",
    "import xgboost as xgb\n",
    "from sklearn.svm import LinearSVC\n",
    "from sklearn import linear_model\n",
    "#from sklearn.ensemble import RandomForestClassifier\n",
    "#from sklearn.ensemble import AdaBoostClassifier\n",
    "\n",
    "t = time.time()\n",
    "\n",
    "mlb = MultiLabelBinarizer()\n",
    "y_train= mlb.fit_transform(y_train)  #Convert list of labels to binary matrix\n",
    "\n",
    "SEED = 0\n",
    "random_state = np.random.RandomState(SEED)\n",
    "classifier = OneVsRestClassifier(linear_model.PassiveAggressiveClassifier(n_iter=50))\n",
    "classifier.fit(X_train, y_train)\n",
    "\n",
    "y_predict = classifier.predict(X_test)\n",
    "#y_predict = classifier.predict_proba(X_test)\n",
    "np.savetxt(data_root+\"../submissions/ensemble/y_predict_0.812068670507_PAC_submission_fc7_4096.csv\", y_predict, delimiter=\",\")\n",
    "#y_predict = y_predict > 0.5\n",
    "\n",
    "#print list(mlb.classes_)\n",
    "y_predict_label = mlb.inverse_transform(y_predict) #Convert binary matrix back to labels\n",
    "\n",
    "print \"Time passed: \", \"{0:.1f}\".format(time.time()-t), \"sec\""
   ]
  },
  {
   "cell_type": "code",
   "execution_count": 11,
   "metadata": {
    "collapsed": false
   },
   "outputs": [
    {
     "data": {
      "text/plain": [
       "(10000, 4096)"
      ]
     },
     "execution_count": 11,
     "metadata": {},
     "output_type": "execute_result"
    }
   ],
   "source": [
    "X_test.shape"
   ]
  },
  {
   "cell_type": "code",
   "execution_count": 12,
   "metadata": {
    "collapsed": false
   },
   "outputs": [],
   "source": [
    "test_data_frame  = pd.read_csv(data_root+\"test_biz_fc7features.csv\")\n",
    "df = pd.DataFrame(columns=['business_id','labels'])\n",
    "\n",
    "for i in range(len(test_data_frame)):\n",
    "    biz = test_data_frame.loc[i]['business']\n",
    "    label = y_predict_label[i]\n",
    "    label = str(label)[1:-1].replace(\",\", \" \")\n",
    "    df.loc[i] = [str(biz), label]\n",
    "    \n",
    "    \n",
    "with open(data_root+\"../submissions/0.812068670507_PAC_submission_fc7_4096.csv\",'w') as f:\n",
    "    df.to_csv(f, index=False)    \n",
    "    "
   ]
  },
  {
   "cell_type": "code",
   "execution_count": 13,
   "metadata": {
    "collapsed": false
   },
   "outputs": [
    {
     "data": {
      "text/html": [
       "<div>\n",
       "<table border=\"1\" class=\"dataframe\">\n",
       "  <thead>\n",
       "    <tr style=\"text-align: right;\">\n",
       "      <th></th>\n",
       "      <th>attribuite 0</th>\n",
       "      <th>attribuite 1</th>\n",
       "      <th>attribuite 2</th>\n",
       "      <th>attribuite 3</th>\n",
       "      <th>attribuite 4</th>\n",
       "      <th>attribuite 5</th>\n",
       "      <th>attribuite 6</th>\n",
       "      <th>attribuite 7</th>\n",
       "      <th>attribuite 8</th>\n",
       "      <th>num_biz</th>\n",
       "    </tr>\n",
       "  </thead>\n",
       "  <tbody>\n",
       "    <tr>\n",
       "      <th>biz count</th>\n",
       "      <td>2889</td>\n",
       "      <td>4452</td>\n",
       "      <td>7257</td>\n",
       "      <td>3035</td>\n",
       "      <td>1121</td>\n",
       "      <td>9274</td>\n",
       "      <td>9136</td>\n",
       "      <td>2265</td>\n",
       "      <td>8110</td>\n",
       "      <td>10000</td>\n",
       "    </tr>\n",
       "    <tr>\n",
       "      <th>biz ratio</th>\n",
       "      <td>29%</td>\n",
       "      <td>45%</td>\n",
       "      <td>73%</td>\n",
       "      <td>30%</td>\n",
       "      <td>11%</td>\n",
       "      <td>93%</td>\n",
       "      <td>91%</td>\n",
       "      <td>23%</td>\n",
       "      <td>81%</td>\n",
       "      <td>100%</td>\n",
       "    </tr>\n",
       "  </tbody>\n",
       "</table>\n",
       "</div>"
      ],
      "text/plain": [
       "          attribuite 0 attribuite 1 attribuite 2 attribuite 3 attribuite 4  \\\n",
       "biz count         2889         4452         7257         3035         1121   \n",
       "biz ratio          29%          45%          73%          30%          11%   \n",
       "\n",
       "          attribuite 5 attribuite 6 attribuite 7 attribuite 8 num_biz  \n",
       "biz count         9274         9136         2265         8110   10000  \n",
       "biz ratio          93%          91%          23%          81%    100%  "
      ]
     },
     "execution_count": 13,
     "metadata": {},
     "output_type": "execute_result"
    }
   ],
   "source": [
    "statistics = pd.DataFrame(columns=[ \"attribuite \"+str(i) for i in range(9)]+['num_biz'], index = [\"biz count\", \"biz ratio\"])\n",
    "statistics.loc[\"biz count\"] = np.append(np.sum(y_predict, axis=0), len(y_predict))\n",
    "pd.options.display.float_format = '{:.0f}%'.format\n",
    "statistics.loc[\"biz ratio\"] = statistics.loc[\"biz count\"]*100/len(y_predict) \n",
    "statistics"
   ]
  },
  {
   "cell_type": "markdown",
   "metadata": {},
   "source": [
    "## Ensemble of previous models"
   ]
  },
  {
   "cell_type": "code",
   "execution_count": 4,
   "metadata": {
    "collapsed": false
   },
   "outputs": [
    {
     "name": "stdout",
     "output_type": "stream",
     "text": [
      "Samples of ensemble predict labels (in binary matrix):\n",
      "[[False  True  True  True False  True  True False False]\n",
      " [False  True  True  True False  True  True False  True]\n",
      " [False  True False  True False  True  True False  True]]\n",
      "Samples of y_predict_label (in binary matrix):\n",
      "[(1, 2, 3, 5, 6), (1, 2, 3, 5, 6, 8), (1, 3, 5, 6, 8)]\n"
     ]
    }
   ],
   "source": [
    "import numpy as np\n",
    "import pandas as pd \n",
    "from sklearn.preprocessing import MultiLabelBinarizer\n",
    "\n",
    "data_root = '/media/sf_Yelp/input/'\n",
    "mlb = MultiLabelBinarizer()\n",
    "y_train= mlb.fit_transform(y_train)  #Convert list of labels to binary matrix\n",
    "\n",
    "\n",
    "y_predict_BR  = pd.read_csv(data_root+\"../submissions/ensemble/y_predict_0.828991940194_BayesianRidge__submission_fc7_4096.csv\",header=None)\n",
    "y_predict_LoR  = pd.read_csv(data_root+\"../submissions/ensemble/y_predict_0.824536875218_LogisticRegressionCV_submission_fc7_4096.csv\",header=None)\n",
    "y_predict_XGB  = pd.read_csv(data_root+\"../submissions/ensemble/y_predict_0.823321762664_XGB_d4_n500_submission_fc7_4096.csv\",header=None)\n",
    "y_predict_RF  = pd.read_csv(data_root+\"../submissions/ensemble/y_predict_0.807488855869_RF_d4_n1000_submission_fc7_4096.csv\",header=None)\n",
    "y_predict_RCcv  = pd.read_csv(data_root+\"../submissions/ensemble/y_predict_0.825110002933_RCcv_norm_submission_fc7_4096.csv\",header=None)\n",
    "y_predict_RC  = pd.read_csv(data_root+\"../submissions/ensemble/y_predict_0.820068600663_RC_norm_submission_fc7_4096.csv\",header=None)\n",
    "y_predict_PAC  = pd.read_csv(data_root+\"../submissions/ensemble/y_predict_0.812068670507_PAC_submission_fc7_4096.csv\",header=None)\n",
    "#y_predict_LR  = pd.read_csv(data_root+\"../submissions/ensemble/y_predict_0.762498569958_LR_submission_fc7_4096.csv\",header=None)\n",
    "\n",
    "\n",
    "ensemble_predict = (y_predict_BR + y_predict_LoR + y_predict_XGB + y_predict_RF+ y_predict_RCcv+ y_predict_RC+ y_predict_PAC)/7\n",
    "ensemble_predict = ensemble_predict >0.5\n",
    "ensemble_predict = pd.DataFrame.as_matrix(ensemble_predict)\n",
    "print \"Samples of ensemble predict labels (in binary matrix):\\n\", ensemble_predict[0:3]\n",
    "#print list(mlb.classes_)\n",
    "y_predict_label = mlb.inverse_transform(ensemble_predict) #Convert binary matrix back to labels\n",
    "print \"Samples of y_predict_label (in binary matrix):\\n\", y_predict_label[0:3]\n",
    "\n",
    "\n",
    "test_data_frame  = pd.read_csv(data_root+\"test_biz_fc7features.csv\")\n",
    "df = pd.DataFrame(columns=['business_id','labels'])\n",
    "\n",
    "for i in range(len(test_data_frame)):\n",
    "    biz = test_data_frame.loc[i]['business']\n",
    "    label = y_predict_label[i]\n",
    "    label = str(label)[1:-1].replace(\",\", \" \")\n",
    "    df.loc[i] = [str(biz), label]\n",
    "\n",
    "with open(data_root+\"../submissions/ensemble_7models_submission_fc7_4096.csv\",'w') as f:\n",
    "    df.to_csv(f, index=False)  \n",
    "    "
   ]
  },
  {
   "cell_type": "code",
   "execution_count": null,
   "metadata": {
    "collapsed": true
   },
   "outputs": [],
   "source": []
  }
 ],
 "metadata": {
  "kernelspec": {
   "display_name": "Python 2",
   "language": "python",
   "name": "python2"
  },
  "language_info": {
   "codemirror_mode": {
    "name": "ipython",
    "version": 2
   },
   "file_extension": ".py",
   "mimetype": "text/x-python",
   "name": "python",
   "nbconvert_exporter": "python",
   "pygments_lexer": "ipython2",
   "version": "2.7.11"
  }
 },
 "nbformat": 4,
 "nbformat_minor": 0
}
