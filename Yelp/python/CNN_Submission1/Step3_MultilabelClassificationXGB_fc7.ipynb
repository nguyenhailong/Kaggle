{
 "cells": [
  {
   "cell_type": "markdown",
   "metadata": {},
   "source": [
    "# PART3: Multilabel-Classification using scikit-learn SVM"
   ]
  },
  {
   "cell_type": "markdown",
   "metadata": {},
   "source": [
    "## Load Data"
   ]
  },
  {
   "cell_type": "code",
   "execution_count": 4,
   "metadata": {
    "collapsed": false
   },
   "outputs": [],
   "source": [
    "import numpy as np\n",
    "import pandas as pd \n",
    "\n",
    "data_root = '/media/sf_Yelp/input/'\n",
    "\n",
    "train_photos = pd.read_csv(data_root+'train_photo_to_biz_ids.csv')\n",
    "train_photo_to_biz = pd.read_csv(data_root+'train_photo_to_biz_ids.csv', index_col='photo_id')\n",
    "\n",
    "train_df = pd.read_csv(data_root+\"train_biz_fc7features.csv\")\n",
    "test_df  = pd.read_csv(data_root+\"test_biz_fc7features.csv\")\n",
    "\n",
    "y_train = train_df['label'].values\n",
    "X_train = train_df['feature vector'].values\n",
    "X_test = test_df['feature vector'].values\n",
    "\n",
    "def convert_label_to_array(str_label):\n",
    "    str_label = str_label[1:-1]\n",
    "    str_label = str_label.split(',')\n",
    "    return [int(x) for x in str_label if len(x)>0]\n",
    "\n",
    "def convert_feature_to_vector(str_feature):\n",
    "    str_feature = str_feature[1:-1]\n",
    "    str_feature = str_feature.split(',')\n",
    "    return [float(x) for x in str_feature]\n",
    "\n",
    "y_train = np.array([convert_label_to_array(y) for y in train_df['label']])\n",
    "X_train = np.array([convert_feature_to_vector(x) for x in train_df['feature vector']])\n",
    "X_test = np.array([convert_feature_to_vector(x) for x in test_df['feature vector']])\n"
   ]
  },
  {
   "cell_type": "code",
   "execution_count": 5,
   "metadata": {
    "collapsed": false,
    "scrolled": true
   },
   "outputs": [
    {
     "name": "stdout",
     "output_type": "stream",
     "text": [
      "X_train:  (1996, 4096)\n",
      "y_train:  (1996,)\n",
      "X_test:  (10000, 4096)\n",
      "train_df:\n"
     ]
    },
    {
     "data": {
      "text/html": [
       "<div>\n",
       "<table border=\"1\" class=\"dataframe\">\n",
       "  <thead>\n",
       "    <tr style=\"text-align: right;\">\n",
       "      <th></th>\n",
       "      <th>business</th>\n",
       "      <th>label</th>\n",
       "      <th>feature vector</th>\n",
       "    </tr>\n",
       "  </thead>\n",
       "  <tbody>\n",
       "    <tr>\n",
       "      <th>0</th>\n",
       "      <td>1000.0</td>\n",
       "      <td>(1, 2, 3, 4, 5, 6, 7)</td>\n",
       "      <td>[0.20032024, 0.44084537, 0.23249489, 0.3600976...</td>\n",
       "    </tr>\n",
       "    <tr>\n",
       "      <th>1</th>\n",
       "      <td>1001.0</td>\n",
       "      <td>(0, 1, 6, 8)</td>\n",
       "      <td>[0.0013769998, 0.59398097, 0.55060995, 0.18394...</td>\n",
       "    </tr>\n",
       "    <tr>\n",
       "      <th>2</th>\n",
       "      <td>100.0</td>\n",
       "      <td>(1, 2, 4, 5, 6, 7)</td>\n",
       "      <td>[0.11435749, 0.033177156, 0.12572332, 0.539482...</td>\n",
       "    </tr>\n",
       "    <tr>\n",
       "      <th>3</th>\n",
       "      <td>1006.0</td>\n",
       "      <td>(1, 2, 4, 5, 6)</td>\n",
       "      <td>[0.075851507, 0.052600037, 0.059594199, 0.7067...</td>\n",
       "    </tr>\n",
       "    <tr>\n",
       "      <th>4</th>\n",
       "      <td>1010.0</td>\n",
       "      <td>(0, 6, 8)</td>\n",
       "      <td>[0.39024171, 0.28424361, 0.0, 0.1655795, 0.460...</td>\n",
       "    </tr>\n",
       "  </tbody>\n",
       "</table>\n",
       "</div>"
      ],
      "text/plain": [
       "   business                  label  \\\n",
       "0    1000.0  (1, 2, 3, 4, 5, 6, 7)   \n",
       "1    1001.0           (0, 1, 6, 8)   \n",
       "2     100.0     (1, 2, 4, 5, 6, 7)   \n",
       "3    1006.0        (1, 2, 4, 5, 6)   \n",
       "4    1010.0              (0, 6, 8)   \n",
       "\n",
       "                                      feature vector  \n",
       "0  [0.20032024, 0.44084537, 0.23249489, 0.3600976...  \n",
       "1  [0.0013769998, 0.59398097, 0.55060995, 0.18394...  \n",
       "2  [0.11435749, 0.033177156, 0.12572332, 0.539482...  \n",
       "3  [0.075851507, 0.052600037, 0.059594199, 0.7067...  \n",
       "4  [0.39024171, 0.28424361, 0.0, 0.1655795, 0.460...  "
      ]
     },
     "execution_count": 5,
     "metadata": {},
     "output_type": "execute_result"
    }
   ],
   "source": [
    "print \"X_train: \", X_train.shape\n",
    "print \"y_train: \", y_train.shape\n",
    "print \"X_test: \", X_test.shape\n",
    "print \"train_df:\"\n",
    "train_df[0:5]"
   ]
  },
  {
   "cell_type": "markdown",
   "metadata": {},
   "source": [
    "## Train a SVM using 80% training data, and assess performance(F1-score)"
   ]
  },
  {
   "cell_type": "code",
   "execution_count": 9,
   "metadata": {
    "collapsed": false,
    "scrolled": true
   },
   "outputs": [
    {
     "name": "stdout",
     "output_type": "stream",
     "text": [
      "Time passed:  454.9 sec\n"
     ]
    }
   ],
   "source": [
    "from sklearn import svm, datasets\n",
    "from sklearn.cross_validation import train_test_split\n",
    "from sklearn.preprocessing import label_binarize\n",
    "from sklearn.multiclass import OneVsRestClassifier\n",
    "from sklearn.preprocessing import MultiLabelBinarizer\n",
    "import xgboost as xgb\n",
    "import time\n",
    "t=time.time()\n",
    "\n",
    "mlb = MultiLabelBinarizer()\n",
    "y_ptrain= mlb.fit_transform(y_train)  #Convert list of labels to binary matrix\n",
    "\n",
    "random_state = np.random.RandomState(0)\n",
    "X_ptrain, X_ptest, y_ptrain, y_ptest = train_test_split(X_train, y_ptrain, test_size=.2,random_state=random_state)\n",
    "\n",
    "\n",
    "SEED = 2401\n",
    "classifier = OneVsRestClassifier(xgb.XGBClassifier(max_depth=6, n_estimators=500, learning_rate=0.05))\n",
    "classifier.fit(X_ptrain, y_ptrain)\n",
    "\n",
    "y_ppredict = classifier.predict(X_ptest)\n",
    "\n",
    "print \"Time passed: \", \"{0:.1f}\".format(time.time()-t), \"sec\""
   ]
  },
  {
   "cell_type": "code",
   "execution_count": 10,
   "metadata": {
    "collapsed": false
   },
   "outputs": [
    {
     "name": "stdout",
     "output_type": "stream",
     "text": [
      "Samples of predicted labels (in binary matrix):\n",
      "[[0 1 1 1 0 1 1 0 1]\n",
      " [0 0 1 0 0 1 1 0 1]\n",
      " [0 1 1 0 0 1 1 1 0]]\n",
      "\n",
      "Samples of predicted labels:\n",
      "[(1, 2, 3, 5, 6, 8), (2, 5, 6, 8), (1, 2, 5, 6, 7)]\n"
     ]
    }
   ],
   "source": [
    "print \"Samples of predicted labels (in binary matrix):\\n\", y_ppredict[0:3]\n",
    "print \"\\nSamples of predicted labels:\\n\", mlb.inverse_transform(y_ppredict[0:3])"
   ]
  },
  {
   "cell_type": "code",
   "execution_count": 11,
   "metadata": {
    "collapsed": false
   },
   "outputs": [
    {
     "data": {
      "text/html": [
       "<div>\n",
       "<table border=\"1\" class=\"dataframe\">\n",
       "  <thead>\n",
       "    <tr style=\"text-align: right;\">\n",
       "      <th></th>\n",
       "      <th>attribuite 0</th>\n",
       "      <th>attribuite 1</th>\n",
       "      <th>attribuite 2</th>\n",
       "      <th>attribuite 3</th>\n",
       "      <th>attribuite 4</th>\n",
       "      <th>attribuite 5</th>\n",
       "      <th>attribuite 6</th>\n",
       "      <th>attribuite 7</th>\n",
       "      <th>attribuite 8</th>\n",
       "      <th>num_biz</th>\n",
       "    </tr>\n",
       "  </thead>\n",
       "  <tbody>\n",
       "    <tr>\n",
       "      <th>biz count</th>\n",
       "      <td>119</td>\n",
       "      <td>189</td>\n",
       "      <td>203</td>\n",
       "      <td>189</td>\n",
       "      <td>95</td>\n",
       "      <td>247</td>\n",
       "      <td>279</td>\n",
       "      <td>106</td>\n",
       "      <td>250</td>\n",
       "      <td>400</td>\n",
       "    </tr>\n",
       "    <tr>\n",
       "      <th>biz ratio</th>\n",
       "      <td>30%</td>\n",
       "      <td>47%</td>\n",
       "      <td>51%</td>\n",
       "      <td>47%</td>\n",
       "      <td>24%</td>\n",
       "      <td>62%</td>\n",
       "      <td>70%</td>\n",
       "      <td>26%</td>\n",
       "      <td>62%</td>\n",
       "      <td>100%</td>\n",
       "    </tr>\n",
       "  </tbody>\n",
       "</table>\n",
       "</div>"
      ],
      "text/plain": [
       "          attribuite 0 attribuite 1 attribuite 2 attribuite 3 attribuite 4  \\\n",
       "biz count          119          189          203          189           95   \n",
       "biz ratio          30%          47%          51%          47%          24%   \n",
       "\n",
       "          attribuite 5 attribuite 6 attribuite 7 attribuite 8 num_biz  \n",
       "biz count          247          279          106          250     400  \n",
       "biz ratio          62%          70%          26%          62%    100%  "
      ]
     },
     "execution_count": 11,
     "metadata": {},
     "output_type": "execute_result"
    }
   ],
   "source": [
    "statistics = pd.DataFrame(columns=[ \"attribuite \"+str(i) for i in range(9)]+['num_biz'], index = [\"biz count\", \"biz ratio\"])\n",
    "statistics.loc[\"biz count\"] = np.append(np.sum(y_ppredict, axis=0), len(y_ppredict))\n",
    "pd.options.display.float_format = '{:.0f}%'.format\n",
    "statistics.loc[\"biz ratio\"] = statistics.loc[\"biz count\"]*100/len(y_ppredict) \n",
    "statistics"
   ]
  },
  {
   "cell_type": "code",
   "execution_count": 12,
   "metadata": {
    "collapsed": false
   },
   "outputs": [
    {
     "name": "stdout",
     "output_type": "stream",
     "text": [
      "F1 score:  0.830412830413\n",
      "Individual Class F1 score:  [ 0.69767442  0.82506527  0.89620253  0.65608466  0.74371859  0.87726358\n",
      "  0.93772894  0.70642202  0.90872211]\n"
     ]
    }
   ],
   "source": [
    "from sklearn.metrics import f1_score\n",
    "\n",
    "print \"F1 score: \", f1_score(y_ptest, y_ppredict, average='micro') \n",
    "print \"Individual Class F1 score: \", f1_score(y_ptest, y_ppredict, average=None)"
   ]
  },
  {
   "cell_type": "markdown",
   "metadata": {},
   "source": [
    "## Re-Train a SVM using all training data, and make predictions on test set"
   ]
  },
  {
   "cell_type": "code",
   "execution_count": 6,
   "metadata": {
    "collapsed": false,
    "scrolled": true
   },
   "outputs": [
    {
     "name": "stdout",
     "output_type": "stream",
     "text": [
      "Time passed:  1408.7 sec\n"
     ]
    }
   ],
   "source": [
    "## Uncomment if skip previous train\n",
    "from sklearn import svm\n",
    "from sklearn.preprocessing import label_binarize\n",
    "from sklearn.multiclass import OneVsRestClassifier\n",
    "from sklearn.preprocessing import MultiLabelBinarizer\n",
    "import time\n",
    "import xgboost as xgb\n",
    "#from sklearn.ensemble import RandomForestClassifier\n",
    "#from sklearn.ensemble import AdaBoostClassifier\n",
    "\n",
    "t = time.time()\n",
    "\n",
    "mlb = MultiLabelBinarizer()\n",
    "y_train= mlb.fit_transform(y_train)  #Convert list of labels to binary matrix\n",
    "\n",
    "SEED = 2401\n",
    "random_state = np.random.RandomState(SEED)\n",
    "classifier = OneVsRestClassifier(xgb.XGBClassifier(max_depth=6, n_estimators=750, learning_rate=0.05))#  objective = \"reg:linear\"\n",
    "classifier.fit(X_train, y_train)\n",
    "\n",
    "y_predict = classifier.predict(X_test)\n",
    "\n",
    "#print list(mlb.classes_)\n",
    "y_predict_label = mlb.inverse_transform(y_predict) #Convert binary matrix back to labels\n",
    "\n",
    "print \"Time passed: \", \"{0:.1f}\".format(time.time()-t), \"sec\""
   ]
  },
  {
   "cell_type": "code",
   "execution_count": 7,
   "metadata": {
    "collapsed": false
   },
   "outputs": [
    {
     "data": {
      "text/plain": [
       "(10000, 4096)"
      ]
     },
     "execution_count": 7,
     "metadata": {},
     "output_type": "execute_result"
    }
   ],
   "source": [
    "X_test.shape"
   ]
  },
  {
   "cell_type": "code",
   "execution_count": 8,
   "metadata": {
    "collapsed": false
   },
   "outputs": [],
   "source": [
    "test_data_frame  = pd.read_csv(data_root+\"test_biz_fc7features.csv\")\n",
    "df = pd.DataFrame(columns=['business_id','labels'])\n",
    "\n",
    "for i in range(len(test_data_frame)):\n",
    "    biz = test_data_frame.loc[i]['business']\n",
    "    label = y_predict_label[i]\n",
    "    label = str(label)[1:-1].replace(\",\", \" \")\n",
    "    df.loc[i] = [str(biz), label]\n",
    "\n",
    "with open(data_root+\"../submissions/xgb_750_submission_fc7.csv\",'w') as f:\n",
    "    df.to_csv(f, index=False)    \n",
    "    "
   ]
  },
  {
   "cell_type": "code",
   "execution_count": 9,
   "metadata": {
    "collapsed": false
   },
   "outputs": [
    {
     "data": {
      "text/html": [
       "<div>\n",
       "<table border=\"1\" class=\"dataframe\">\n",
       "  <thead>\n",
       "    <tr style=\"text-align: right;\">\n",
       "      <th></th>\n",
       "      <th>attribuite 0</th>\n",
       "      <th>attribuite 1</th>\n",
       "      <th>attribuite 2</th>\n",
       "      <th>attribuite 3</th>\n",
       "      <th>attribuite 4</th>\n",
       "      <th>attribuite 5</th>\n",
       "      <th>attribuite 6</th>\n",
       "      <th>attribuite 7</th>\n",
       "      <th>attribuite 8</th>\n",
       "      <th>num_biz</th>\n",
       "    </tr>\n",
       "  </thead>\n",
       "  <tbody>\n",
       "    <tr>\n",
       "      <th>biz count</th>\n",
       "      <td>751</td>\n",
       "      <td>8072</td>\n",
       "      <td>8551</td>\n",
       "      <td>6682</td>\n",
       "      <td>2125</td>\n",
       "      <td>9092</td>\n",
       "      <td>9353</td>\n",
       "      <td>2608</td>\n",
       "      <td>5122</td>\n",
       "      <td>10000</td>\n",
       "    </tr>\n",
       "    <tr>\n",
       "      <th>biz ratio</th>\n",
       "      <td>8%</td>\n",
       "      <td>81%</td>\n",
       "      <td>86%</td>\n",
       "      <td>67%</td>\n",
       "      <td>21%</td>\n",
       "      <td>91%</td>\n",
       "      <td>94%</td>\n",
       "      <td>26%</td>\n",
       "      <td>51%</td>\n",
       "      <td>100%</td>\n",
       "    </tr>\n",
       "  </tbody>\n",
       "</table>\n",
       "</div>"
      ],
      "text/plain": [
       "          attribuite 0 attribuite 1 attribuite 2 attribuite 3 attribuite 4  \\\n",
       "biz count          751         8072         8551         6682         2125   \n",
       "biz ratio           8%          81%          86%          67%          21%   \n",
       "\n",
       "          attribuite 5 attribuite 6 attribuite 7 attribuite 8 num_biz  \n",
       "biz count         9092         9353         2608         5122   10000  \n",
       "biz ratio          91%          94%          26%          51%    100%  "
      ]
     },
     "execution_count": 9,
     "metadata": {},
     "output_type": "execute_result"
    }
   ],
   "source": [
    "statistics = pd.DataFrame(columns=[ \"attribuite \"+str(i) for i in range(9)]+['num_biz'], index = [\"biz count\", \"biz ratio\"])\n",
    "statistics.loc[\"biz count\"] = np.append(np.sum(y_predict, axis=0), len(y_predict))\n",
    "pd.options.display.float_format = '{:.0f}%'.format\n",
    "statistics.loc[\"biz ratio\"] = statistics.loc[\"biz count\"]*100/len(y_predict) \n",
    "statistics"
   ]
  },
  {
   "cell_type": "code",
   "execution_count": 12,
   "metadata": {
    "collapsed": true
   },
   "outputs": [],
   "source": [
    "#LB score: 0.76437 (use fc7 layer)\n",
    "#LB score: 0.73053 (use prob layer)"
   ]
  }
 ],
 "metadata": {
  "kernelspec": {
   "display_name": "Python 2",
   "language": "python",
   "name": "python2"
  },
  "language_info": {
   "codemirror_mode": {
    "name": "ipython",
    "version": 2
   },
   "file_extension": ".py",
   "mimetype": "text/x-python",
   "name": "python",
   "nbconvert_exporter": "python",
   "pygments_lexer": "ipython2",
   "version": "2.7.11"
  }
 },
 "nbformat": 4,
 "nbformat_minor": 0
}
