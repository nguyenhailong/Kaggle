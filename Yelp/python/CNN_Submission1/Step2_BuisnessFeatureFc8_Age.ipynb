{
 "cells": [
  {
   "cell_type": "markdown",
   "metadata": {},
   "source": [
    "# PART 2: Compute a feature vector for each buisness"
   ]
  },
  {
   "cell_type": "markdown",
   "metadata": {},
   "source": [
    "Summary:<br>\n",
    "\n",
    "     This Kaggle competition is a Multiple instance learning (MIL) problem:      \n",
    "     Each training example (a business) has multiple instances (photos).          \n",
    "     We'll use the SimpleMI algorithm briefly mentioned in \n",
    "     https://en.wikipedia.org/wiki/Multiple_instance_learning\n",
    "     \n",
    "     In part 1, we've obtained a 4096-dim feature vector for each image.\n",
    "     In part 2, for each business, we will compute the mean feature vector among images that belong to it.\n",
    "     In this way, each business is correspondent to a single feature, i.e., the mean feature vector."
   ]
  },
  {
   "cell_type": "markdown",
   "metadata": {},
   "source": [
    "## Process buisness in the training set"
   ]
  },
  {
   "cell_type": "code",
   "execution_count": 1,
   "metadata": {
    "collapsed": false
   },
   "outputs": [
    {
     "name": "stdout",
     "output_type": "stream",
     "text": [
      "Number of business:  1996 (4 business with missing labels are dropped)\n",
      "Buisness processed:  1000 Time passed:  2.8 sec\n"
     ]
    }
   ],
   "source": [
    "data_root = '/home/long/Desktop/Yelp/input/'\n",
    "\n",
    "import numpy as np\n",
    "import pandas as pd \n",
    "import h5py\n",
    "import time\n",
    "\n",
    "train_photo_to_biz = pd.read_csv(data_root+'train_photo_to_biz_ids.csv')\n",
    "train_labels = pd.read_csv(data_root+'train.csv').dropna()\n",
    "train_labels['labels'] = train_labels['labels'].apply(lambda x: tuple(sorted(int(t) for t in x.split())))\n",
    "train_labels.set_index('business_id', inplace=True)\n",
    "biz_ids = train_labels.index.unique()\n",
    "print \"Number of business: \", len(biz_ids) ,   \"(4 business with missing labels are dropped)\"\n",
    "\n",
    "## Load image features\n",
    "f = h5py.File(data_root+'train_age_fc8features.h5','r')\n",
    "train_image_features = np.copy(f['feature'])\n",
    "f.close()\n",
    "\n",
    "\n",
    "t= time.time()\n",
    "## For each business, compute a feature vector \n",
    "df = pd.DataFrame(columns=['business','label','feature vector'])\n",
    "index = 0\n",
    "for biz in biz_ids:  \n",
    "    \n",
    "    label = train_labels.loc[biz]['labels']\n",
    "    image_index = train_photo_to_biz[train_photo_to_biz['business_id']==biz].index.tolist()\n",
    "    folder = data_root+'train_photo_folders/'  \n",
    "    \n",
    "    features = train_image_features[image_index]\n",
    "    mean_feature =list(np.mean(features,axis=0))\n",
    "\n",
    "    df.loc[index] = [biz, label, mean_feature]\n",
    "    index+=1\n",
    "    if index%1000==0:\n",
    "        print \"Buisness processed: \", index, \"Time passed: \", \"{0:.1f}\".format(time.time()-t), \"sec\"\n",
    "\n",
    "with open(data_root+\"train_biz_fc8_age_features.csv\",'w') as f:  \n",
    "    df.to_csv(f, index=False)"
   ]
  },
  {
   "cell_type": "code",
   "execution_count": 2,
   "metadata": {
    "collapsed": false,
    "scrolled": true
   },
   "outputs": [
    {
     "name": "stdout",
     "output_type": "stream",
     "text": [
      "(1996, 3)\n"
     ]
    },
    {
     "data": {
      "text/html": [
       "<div>\n",
       "<table border=\"1\" class=\"dataframe\">\n",
       "  <thead>\n",
       "    <tr style=\"text-align: right;\">\n",
       "      <th></th>\n",
       "      <th>business</th>\n",
       "      <th>label</th>\n",
       "      <th>feature vector</th>\n",
       "    </tr>\n",
       "  </thead>\n",
       "  <tbody>\n",
       "    <tr>\n",
       "      <th>0</th>\n",
       "      <td>1000.0</td>\n",
       "      <td>(1, 2, 3, 4, 5, 6, 7)</td>\n",
       "      <td>[-1.7518281, -2.5073791, -1.1439633, -1.309718...</td>\n",
       "    </tr>\n",
       "    <tr>\n",
       "      <th>1</th>\n",
       "      <td>1001.0</td>\n",
       "      <td>(0, 1, 6, 8)</td>\n",
       "      <td>[-2.8106494, -2.1684897, -1.1240553, -1.027255...</td>\n",
       "    </tr>\n",
       "    <tr>\n",
       "      <th>2</th>\n",
       "      <td>100.0</td>\n",
       "      <td>(1, 2, 4, 5, 6, 7)</td>\n",
       "      <td>[-0.44846466, -1.6965714, -0.61568594, -1.9498...</td>\n",
       "    </tr>\n",
       "    <tr>\n",
       "      <th>3</th>\n",
       "      <td>1006.0</td>\n",
       "      <td>(1, 2, 4, 5, 6)</td>\n",
       "      <td>[-0.98842466, -2.3486288, -1.0032905, -1.95205...</td>\n",
       "    </tr>\n",
       "    <tr>\n",
       "      <th>4</th>\n",
       "      <td>1010.0</td>\n",
       "      <td>(0, 6, 8)</td>\n",
       "      <td>[-2.5805631, -2.7594094, -1.7486759, -1.669193...</td>\n",
       "    </tr>\n",
       "  </tbody>\n",
       "</table>\n",
       "</div>"
      ],
      "text/plain": [
       "   business                  label  \\\n",
       "0    1000.0  (1, 2, 3, 4, 5, 6, 7)   \n",
       "1    1001.0           (0, 1, 6, 8)   \n",
       "2     100.0     (1, 2, 4, 5, 6, 7)   \n",
       "3    1006.0        (1, 2, 4, 5, 6)   \n",
       "4    1010.0              (0, 6, 8)   \n",
       "\n",
       "                                      feature vector  \n",
       "0  [-1.7518281, -2.5073791, -1.1439633, -1.309718...  \n",
       "1  [-2.8106494, -2.1684897, -1.1240553, -1.027255...  \n",
       "2  [-0.44846466, -1.6965714, -0.61568594, -1.9498...  \n",
       "3  [-0.98842466, -2.3486288, -1.0032905, -1.95205...  \n",
       "4  [-2.5805631, -2.7594094, -1.7486759, -1.669193...  "
      ]
     },
     "execution_count": 2,
     "metadata": {},
     "output_type": "execute_result"
    }
   ],
   "source": [
    "# Check file content\n",
    "train_business = pd.read_csv(data_root+'train_biz_fc8_age_features.csv')\n",
    "print train_business.shape\n",
    "train_business[0:5]"
   ]
  },
  {
   "cell_type": "markdown",
   "metadata": {},
   "source": [
    "## Process business in the test set"
   ]
  },
  {
   "cell_type": "code",
   "execution_count": 3,
   "metadata": {
    "collapsed": true
   },
   "outputs": [],
   "source": [
    "data_root = '/home/long/Desktop/Yelp/input/'\n",
    "\n",
    "import numpy as np\n",
    "import pandas as pd \n",
    "import h5py\n",
    "import time"
   ]
  },
  {
   "cell_type": "code",
   "execution_count": 4,
   "metadata": {
    "collapsed": false
   },
   "outputs": [
    {
     "name": "stdout",
     "output_type": "stream",
     "text": [
      "Number of business:  10000\n",
      "Buisness processed:  1000 Time passed:  113.8 sec\n",
      "Buisness processed:  2000 Time passed:  329.7 sec\n",
      "Buisness processed:  3000 Time passed:  552.2 sec\n",
      "Buisness processed:  4000 Time passed:  821.5 sec\n",
      "Buisness processed:  5000 Time passed:  1083.0 sec\n",
      "Buisness processed:  6000 Time passed:  1326.8 sec\n",
      "Buisness processed:  7000 Time passed:  1582.8 sec\n",
      "Buisness processed:  8000 Time passed:  1833.4 sec\n",
      "Buisness processed:  9000 Time passed:  2088.2 sec\n",
      "Buisness processed:  10000 Time passed:  2355.3 sec\n"
     ]
    }
   ],
   "source": [
    "test_photo_to_biz = pd.read_csv(data_root+'test_photo_to_biz_ids.csv')\n",
    "biz_ids = test_photo_to_biz['business_id'].unique()\n",
    "\n",
    "## Load image features\n",
    "f = h5py.File(data_root+'test_age_fc8features.h5','r')\n",
    "image_filenames = list(np.copy(f['photo_id']))\n",
    "image_filenames = [name.split('/')[-1][:-4] for name in image_filenames]  #remove the full path and the str \".jpg\"\n",
    "image_features = np.copy(f['feature'])\n",
    "f.close()\n",
    "print \"Number of business: \", len(biz_ids)\n",
    "\n",
    "df = pd.DataFrame(columns=['business','feature vector'])\n",
    "index = 0\n",
    "t = time.time()\n",
    "\n",
    "for biz in biz_ids:     \n",
    "    \n",
    "    image_ids = test_photo_to_biz[test_photo_to_biz['business_id']==biz]['photo_id'].tolist()  \n",
    "    image_index = [image_filenames.index(str(x)) for x in image_ids]\n",
    "     \n",
    "    folder = data_root+'test_photo_folders/'            \n",
    "    features = image_features[image_index]\n",
    "    mean_feature =list(np.mean(features,axis=0))\n",
    "\n",
    "    df.loc[index] = [biz, mean_feature]\n",
    "    index+=1\n",
    "    if index%1000==0:\n",
    "        print \"Buisness processed: \", index, \"Time passed: \", \"{0:.1f}\".format(time.time()-t), \"sec\"\n",
    "\n",
    "with open(data_root+\"test_biz_fc8_age_features.csv\",'w') as f:  \n",
    "    df.to_csv(f, index=False)"
   ]
  },
  {
   "cell_type": "code",
   "execution_count": 5,
   "metadata": {
    "collapsed": false,
    "scrolled": true
   },
   "outputs": [
    {
     "name": "stdout",
     "output_type": "stream",
     "text": [
      "(10000, 2)\n"
     ]
    },
    {
     "data": {
      "text/html": [
       "<div>\n",
       "<table border=\"1\" class=\"dataframe\">\n",
       "  <thead>\n",
       "    <tr style=\"text-align: right;\">\n",
       "      <th></th>\n",
       "      <th>business</th>\n",
       "      <th>feature vector</th>\n",
       "    </tr>\n",
       "  </thead>\n",
       "  <tbody>\n",
       "    <tr>\n",
       "      <th>0</th>\n",
       "      <td>003sg</td>\n",
       "      <td>[-1.7220572, -2.196975, -0.93700761, -1.556262...</td>\n",
       "    </tr>\n",
       "    <tr>\n",
       "      <th>1</th>\n",
       "      <td>00er5</td>\n",
       "      <td>[-2.0488026, -2.5179906, -0.98081774, -1.50933...</td>\n",
       "    </tr>\n",
       "    <tr>\n",
       "      <th>2</th>\n",
       "      <td>00kad</td>\n",
       "      <td>[-1.6822215, -1.8892394, -0.81465763, -1.06845...</td>\n",
       "    </tr>\n",
       "    <tr>\n",
       "      <th>3</th>\n",
       "      <td>00mc6</td>\n",
       "      <td>[-1.3948791, -2.3208468, -1.3185124, -2.072684...</td>\n",
       "    </tr>\n",
       "    <tr>\n",
       "      <th>4</th>\n",
       "      <td>00q7x</td>\n",
       "      <td>[-2.5918484, -2.7646549, -1.311422, -1.0614859...</td>\n",
       "    </tr>\n",
       "  </tbody>\n",
       "</table>\n",
       "</div>"
      ],
      "text/plain": [
       "  business                                     feature vector\n",
       "0    003sg  [-1.7220572, -2.196975, -0.93700761, -1.556262...\n",
       "1    00er5  [-2.0488026, -2.5179906, -0.98081774, -1.50933...\n",
       "2    00kad  [-1.6822215, -1.8892394, -0.81465763, -1.06845...\n",
       "3    00mc6  [-1.3948791, -2.3208468, -1.3185124, -2.072684...\n",
       "4    00q7x  [-2.5918484, -2.7646549, -1.311422, -1.0614859..."
      ]
     },
     "execution_count": 5,
     "metadata": {},
     "output_type": "execute_result"
    }
   ],
   "source": [
    "# Check file content\n",
    "test_business = pd.read_csv(data_root+'test_biz_fc8_age_features.csv')\n",
    "print test_business.shape\n",
    "test_business[0:5]"
   ]
  },
  {
   "cell_type": "code",
   "execution_count": null,
   "metadata": {
    "collapsed": true
   },
   "outputs": [],
   "source": []
  }
 ],
 "metadata": {
  "kernelspec": {
   "display_name": "Python 2",
   "language": "python",
   "name": "python2"
  },
  "language_info": {
   "codemirror_mode": {
    "name": "ipython",
    "version": 2
   },
   "file_extension": ".py",
   "mimetype": "text/x-python",
   "name": "python",
   "nbconvert_exporter": "python",
   "pygments_lexer": "ipython2",
   "version": "2.7.11"
  }
 },
 "nbformat": 4,
 "nbformat_minor": 0
}
